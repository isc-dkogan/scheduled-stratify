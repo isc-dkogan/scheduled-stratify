{
 "cells": [
  {
   "cell_type": "code",
   "execution_count": 1,
   "id": "f0d24082-fb35-40f6-8bdd-177631a03c1f",
   "metadata": {
    "tags": []
   },
   "outputs": [],
   "source": [
    "JOB_ID = 2\n",
    "STARTING_JOB_ID = 1"
   ]
  },
  {
   "cell_type": "code",
   "execution_count": 2,
   "id": "3fe58772-c522-4362-add4-7ba6d9281e6a",
   "metadata": {
    "tags": []
   },
   "outputs": [
    {
     "name": "stdout",
     "output_type": "stream",
     "text": [
      "http://localhost:8153/stratify/job/2\n"
     ]
    },
    {
     "ename": "KeyError",
     "evalue": "'Job'",
     "output_type": "error",
     "traceback": [
      "\u001b[0;31m---------------------------------------------------------------------------\u001b[0m",
      "\u001b[0;31mKeyError\u001b[0m                                  Traceback (most recent call last)",
      "Cell \u001b[0;32mIn[2], line 28\u001b[0m\n\u001b[1;32m     25\u001b[0m job_results \u001b[38;5;241m=\u001b[39m get_job(JOB_ID)\n\u001b[1;32m     26\u001b[0m jobs_results \u001b[38;5;241m=\u001b[39m get_jobs(STARTING_JOB_ID)\n\u001b[0;32m---> 28\u001b[0m jobs \u001b[38;5;241m=\u001b[39m pd\u001b[38;5;241m.\u001b[39mDataFrame(\u001b[43mjobs_results\u001b[49m\u001b[43m[\u001b[49m\u001b[38;5;124;43m'\u001b[39;49m\u001b[38;5;124;43mJob\u001b[39;49m\u001b[38;5;124;43m'\u001b[39;49m\u001b[43m]\u001b[49m)\n\u001b[1;32m     29\u001b[0m \u001b[38;5;28mprint\u001b[39m(\u001b[38;5;28mlen\u001b[39m(jobs))\n\u001b[1;32m     30\u001b[0m schema_columns \u001b[38;5;241m=\u001b[39m [\u001b[38;5;124m'\u001b[39m\u001b[38;5;124mjob_id\u001b[39m\u001b[38;5;124m'\u001b[39m, \u001b[38;5;124m'\u001b[39m\u001b[38;5;124mdb_name\u001b[39m\u001b[38;5;124m'\u001b[39m, \u001b[38;5;124m'\u001b[39m\u001b[38;5;124mschema_name\u001b[39m\u001b[38;5;124m'\u001b[39m, \u001b[38;5;124m'\u001b[39m\u001b[38;5;124mtable_name\u001b[39m\u001b[38;5;124m'\u001b[39m, \u001b[38;5;124m'\u001b[39m\u001b[38;5;124mcolumn_name\u001b[39m\u001b[38;5;124m'\u001b[39m,\n\u001b[1;32m     31\u001b[0m        \u001b[38;5;124m'\u001b[39m\u001b[38;5;124mdata_type\u001b[39m\u001b[38;5;124m'\u001b[39m, \u001b[38;5;124m'\u001b[39m\u001b[38;5;124mprimary_key\u001b[39m\u001b[38;5;124m'\u001b[39m, \u001b[38;5;124m'\u001b[39m\u001b[38;5;124mmin\u001b[39m\u001b[38;5;124m'\u001b[39m, \u001b[38;5;124m'\u001b[39m\u001b[38;5;124mmax\u001b[39m\u001b[38;5;124m'\u001b[39m, \u001b[38;5;124m'\u001b[39m\u001b[38;5;124mavg\u001b[39m\u001b[38;5;124m'\u001b[39m, \u001b[38;5;124m'\u001b[39m\u001b[38;5;124mstddev\u001b[39m\u001b[38;5;124m'\u001b[39m, \u001b[38;5;124m'\u001b[39m\u001b[38;5;124mdistinctcount\u001b[39m\u001b[38;5;124m'\u001b[39m,\n\u001b[1;32m     32\u001b[0m        \u001b[38;5;124m'\u001b[39m\u001b[38;5;124mstrat_names\u001b[39m\u001b[38;5;124m'\u001b[39m]\n",
      "\u001b[0;31mKeyError\u001b[0m: 'Job'"
     ]
    }
   ],
   "source": [
    "import requests\n",
    "import pandas as pd\n",
    "\n",
    "# Sample call to start stratificastion\n",
    "# curl -X 'POST'   'http://localhost:8153/histogram'  -H 'accept: application/json'   -H 'Content-Type: application/json' -d \"@./b360_harris.conf.json\"\n",
    "\n",
    "url = \"http://3.145.100.155:8153\"\n",
    "url = \"http://localhost:8153\"\n",
    "\n",
    "def get_job(job_id):\n",
    "    job_url = f'{url}/stratify/job/{job_id}'\n",
    "    print(job_url)\n",
    "    response = requests.get(job_url)\n",
    "    return response.json()\n",
    "\n",
    "\n",
    "def get_jobs(starting_job_id):\n",
    "    \n",
    "    job_url = f'{url}/stratify/jobs/{starting_job_id}'\n",
    "    response = requests.get(job_url)\n",
    "    return response.json()\n",
    "\n",
    "\n",
    "\n",
    "job_results = get_job(JOB_ID)\n",
    "jobs_results = get_jobs(STARTING_JOB_ID)\n",
    "\n",
    "jobs = pd.DataFrame(jobs_results['Job'])\n",
    "print(len(jobs))\n",
    "schema_columns = ['job_id', 'db_name', 'schema_name', 'table_name', 'column_name',\n",
    "       'data_type', 'primary_key', 'min', 'max', 'avg', 'stddev', 'distinctcount',\n",
    "       'strat_names']\n",
    "\n",
    "stats = pd.DataFrame(job_results['Table_Stats'])\n",
    "#schema = pd.DataFrame(job_results['Table_Schema'])\n",
    "\n",
    "schema = pd.DataFrame(job_results['Table_Schema'], columns=schema_columns)\n",
    "hists = pd.DataFrame(job_results['Histogram'])\n",
    "top = pd.DataFrame(job_results['TopCounts'])\n",
    "\n",
    "def show_itables_df(df):\n",
    "    from itables import show\n",
    "    show(df,scrollY=\"400px\", scrollCollapse=True, paging=False, scrollX = True, column_filters = \"footer\", style=\"table-layout:auto\")"
   ]
  },
  {
   "cell_type": "code",
   "execution_count": 6,
   "id": "93f1db67-c64f-4c45-81ca-4ae893753a45",
   "metadata": {
    "tags": []
   },
   "outputs": [
    {
     "data": {
      "text/html": [
       "<h2>Jobs</h2>"
      ],
      "text/plain": [
       "<IPython.core.display.HTML object>"
      ]
     },
     "metadata": {},
     "output_type": "display_data"
    },
    {
     "data": {
      "text/html": [
       "<style>.itables table td {\n",
       "    text-overflow: ellipsis;\n",
       "    overflow: hidden;\n",
       "}\n",
       "\n",
       ".itables table th {\n",
       "    text-overflow: ellipsis;\n",
       "    overflow: hidden;\n",
       "}\n",
       "\n",
       ".itables thead input {\n",
       "    width: 100%;\n",
       "    padding: 3px;\n",
       "    box-sizing: border-box;\n",
       "}\n",
       "\n",
       ".itables tfoot input {\n",
       "    width: 100%;\n",
       "    padding: 3px;\n",
       "    box-sizing: border-box;\n",
       "}\n",
       "</style>\n",
       "<div class=\"itables\">\n",
       "<table id=\"a0686248-867e-4711-b7f6-24e929937b48\" class=\"display nowrap\"style=\"table-layout:auto\"><thead>\n",
       "    <tr style=\"text-align: right;\">\n",
       "      \n",
       "      <th>id</th>\n",
       "      <th>ConfigName</th>\n",
       "      <th>StartTime</th>\n",
       "      <th>EndTime</th>\n",
       "      <th>RunTime</th>\n",
       "      <th>HasErrors</th>\n",
       "      <th>ConfigHash</th>\n",
       "    </tr>\n",
       "  </thead><tbody><tr><td>Loading... (need <a href=https://mwouts.github.io/itables/troubleshooting.html>help</a>?)</td></tr></tbody><tfoot><th>id</th><th>ConfigName</th><th>StartTime </th><th>EndTime</th><th>RunTime</th><th>HasErrors</th><th>ConfigHash</th></tfoot></table>\n",
       "<link rel=\"stylesheet\" type=\"text/css\" href=\"https://cdn.datatables.net/1.13.1/css/jquery.dataTables.min.css\">\n",
       "<script type=\"module\">\n",
       "    // Import jquery and DataTable\n",
       "    import 'https://code.jquery.com/jquery-3.6.0.min.js';\n",
       "    import dt from 'https://cdn.datatables.net/1.12.1/js/jquery.dataTables.mjs';\n",
       "    dt($);\n",
       "\n",
       "    // Define the table data\n",
       "    const data = [[225, \"B360_Daily\", \"2023-09-21T22:00:00.290000\", \"2023-09-21T22:00:59.210000\", \"0:00:58.92012\", \"None\", \"442f81c969bfa3a0d92b573d3b9676f3a77bf874464c6cc5724a3ded9b36ee17\"], [226, \"B360_Daily\", \"2023-09-22T22:00:00.299000\", \"2023-09-22T22:00:59.266000\", \"0:00:58.96712\", \"None\", \"442f81c969bfa3a0d92b573d3b9676f3a77bf874464c6cc5724a3ded9b36ee17\"], [227, \"B360_Daily\", \"2023-09-23T22:00:00.345000\", \"2023-09-23T22:01:01.543000\", \"0:01:01.98234\", \"None\", \"442f81c969bfa3a0d92b573d3b9676f3a77bf874464c6cc5724a3ded9b36ee17\"], [228, \"B360_Daily\", \"2023-09-24T22:00:00.278000\", \"2023-09-24T22:00:59.222000\", \"0:00:58.9442\", \"None\", \"442f81c969bfa3a0d92b573d3b9676f3a77bf874464c6cc5724a3ded9b36ee17\"], [229, \"B360_Daily\", \"2023-09-25T22:00:00.292000\", \"2023-09-25T22:01:01.543000\", \"0:01:01.25142\", \"None\", \"442f81c969bfa3a0d92b573d3b9676f3a77bf874464c6cc5724a3ded9b36ee17\"], [230, \"B360_Daily\", \"2023-09-26T22:00:00.347000\", \"2023-09-26T22:00:58.111000\", \"0:00:57.764\", \"None\", \"442f81c969bfa3a0d92b573d3b9676f3a77bf874464c6cc5724a3ded9b36ee17\"], [231, \"B360_Daily\", \"2023-09-27T22:00:00.334000\", \"2023-09-27T22:02:00.001000\", \"0:01:01.9667\", \"None\", \"442f81c969bfa3a0d92b573d3b9676f3a77bf874464c6cc5724a3ded9b36ee17\"], [232, \"FSANALYTICS_Daily\", \"2023-09-21T22:30:00.306000\", \"2023-09-21T22:37:39.105000\", \"0:07:38.799233\", \"None\", \"ebacf25595b76169b862c28ae79875f33956291b6fc67dcb4872f38aa549faef\"], [233, \"FSANALYTICS_Daily\", \"2023-09-22T22:30:01.006000\", \"2023-09-22T22:37:38.994000\", \"0:07:37.988495\", \"None\", \"ebacf25595b76169b862c28ae79875f33956291b6fc67dcb4872f38aa549faef\"], [234, \"FSANALYTICS_Daily\", \"2023-09-23T22:30:01.024000\", \"2023-09-23T22:37:41.721000\", \"0:07:40.697176\", \"None\", \"ebacf25595b76169b862c28ae79875f33956291b6fc67dcb4872f38aa549faef\"], [236, \"FSANALYTICS_Daily\", \"2023-09-24T22:30:00.052000\", \"2023-09-24T22:37:53.697000\", \"0:07:53.645384\", \"None\", \"ebacf25595b76169b862c28ae79875f33956291b6fc67dcb4872f38aa549faef\"], [237, \"FSANALYTICS_Daily\", \"2023-09-25T22:30:00.812000\", \"2023-09-25T22:37:56.050000\", \"0:07:55.238544\", \"None\", \"ebacf25595b76169b862c28ae79875f33956291b6fc67dcb4872f38aa549faef\"], [238, \"FSANALYTICS_Daily\", \"2023-09-26T22:30:00.976000\", \"2023-09-26T22:37:39.896000\", \"0:07:38.920099\", \"None\", \"ebacf25595b76169b862c28ae79875f33956291b6fc67dcb4872f38aa549faef\"], [239, \"FSANALYTICS_Daily\", \"2023-09-27T22:30:00.760000\", \"2023-09-27T22:37:41.011000\", \"0:07:40.251685\", \"None\", \"ebacf25595b76169b862c28ae79875f33956291b6fc67dcb4872f38aa549faef\"], [240, \"B360_Daily\", \"2023-09-28T22:00:00.290000\", \"2023-09-28T22:00:00.290000\", \"0:00:58.92012\", \"None\", \"442f81c969bfa3a0d92b573d3b9676f3a77bf874464c6cc5724a3ded9b36ee17\"], [242, \"FSANALYTICS_Daily\", \"2023-09-28T22:30:00.306000\", \"2023-09-28T22:30:00.306000\", \"0:07:38.799233\", \"None\", \"ebacf25595b76169b862c28ae79875f33956291b6fc67dcb4872f38aa549faef\"], [243, \"B360_Daily\", \"2023-09-30T22:00:00.345000\", \"2023-09-30T22:00:00.345000\", \"0:01:01.98234\", \"None\", \"442f81c969bfa3a0d92b573d3b9676f3a77bf874464c6cc5724a3ded9b36ee17\"], [244, \"FSANALYTICS_Daily\", \"2023-09-29T22:30:01.006000\", \"2023-09-29T22:30:01.006000\", \"0:07:37.988495\", \"None\", \"ebacf25595b76169b862c28ae79875f33956291b6fc67dcb4872f38aa549faef\"], [245, \"B360_Daily\", \"2023-10-01T22:00:00.278000\", \"2023-10-01T22:00:00.278000\", \"0:00:58.9442\", \"None\", \"442f81c969bfa3a0d92b573d3b9676f3a77bf874464c6cc5724a3ded9b36ee17\"], [246, \"FSANALYTICS_Daily\", \"2023-09-30T22:30:01.024000\", \"2023-09-30T22:30:01.024000\", \"0:07:40.697176\", \"None\", \"ebacf25595b76169b862c28ae79875f33956291b6fc67dcb4872f38aa549faef\"], [247, \"B360_Daily\", \"2023-10-02T22:00:00.292000\", \"2023-10-02T22:00:00.292000\", \"0:01:01.25142\", \"None\", \"442f81c969bfa3a0d92b573d3b9676f3a77bf874464c6cc5724a3ded9b36ee17\"], [248, \"FSANALYTICS_Daily\", \"2023-10-01T22:30:00.052000\", \"2023-10-01T22:30:00.052000\", \"0:07:53.645384\", \"None\", \"ebacf25595b76169b862c28ae79875f33956291b6fc67dcb4872f38aa549faef\"], [249, \"B360_Daily\", \"2023-10-03T22:00:00.347000\", \"2023-10-03T22:00:00.347000\", \"0:00:57.764\", \"None\", \"442f81c969bfa3a0d92b573d3b9676f3a77bf874464c6cc5724a3ded9b36ee17\"], [250, \"FSANALYTICS_Daily\", \"2023-10-02T22:30:00.812000\", \"2023-10-02T22:30:00.812000\", \"0:07:55.238544\", \"None\", \"ebacf25595b76169b862c28ae79875f33956291b6fc67dcb4872f38aa549faef\"], [251, \"B360_Daily\", \"2023-10-10T13:27:00.798519\", \"2023-10-10T13:27:59.994878\", \"0:00:59.196359\", \"None\", \"cf37ab6f2ecdc535048ce0492848a9b84fb6e3156d8bbfe03239e2a96ad68bf5\"], [252, \"FSANALYTICS_Daily\", \"2023-10-10T13:35:00.760569\", \"2023-10-10T13:42:36.666387\", \"0:07:35.905818\", \"None\", \"9c545c35ccb54c1f751f22306f29fd2c5e4ffc856200e105a6260b72b0b4b01f\"], [253, \"B360_Daily\", \"2023-10-11T00:05:00.327740\", \"2023-10-11T00:07:02.426129\", \"0:02:02.098389\", \"None\", \"cf37ab6f2ecdc535048ce0492848a9b84fb6e3156d8bbfe03239e2a96ad68bf5\"], [254, \"FSANALYTICS_Daily\", \"2023-10-11T13:35:00.499060\", \"2023-10-11T13:42:36.317914\", \"0:07:35.818854\", \"None\", \"9c545c35ccb54c1f751f22306f29fd2c5e4ffc856200e105a6260b72b0b4b01f\"], [255, \"B360_Daily\", \"2023-10-12T00:05:00.780845\", \"2023-10-12T00:05:59.519372\", \"0:00:58.738527\", \"None\", \"cf37ab6f2ecdc535048ce0492848a9b84fb6e3156d8bbfe03239e2a96ad68bf5\"]];\n",
       "\n",
       "    // Define the dt_args\n",
       "    let dt_args = {\"scrollY\": \"400px\", \"scrollCollapse\": true, \"paging\": false, \"scrollX\": true, \"order\": [], \"initComplete\": function () {\n",
       "    // Apply the search\n",
       "    this.api()\n",
       "        .columns()\n",
       "        .every(function () {\n",
       "            const that = this;\n",
       "\n",
       "            $('input', this.footer()).on('keyup change clear', function () {\n",
       "                if (that.search() !== this.value) {\n",
       "                    that.search(this.value).draw();\n",
       "                }\n",
       "            });\n",
       "        });\n",
       "}\n",
       "};\n",
       "    dt_args[\"data\"] = data;\n",
       "\n",
       "    $(document).ready(function () {\n",
       "        // Setup - add a text input to each header or footer cell\n",
       "$('#a0686248-867e-4711-b7f6-24e929937b48 tfoot th').each(function () {\n",
       "    let title = $(this).text();\n",
       "    $(this).html('<input type=\"text\" placeholder=\"Search ' +\n",
       "        // We use encodeURI to avoid this LGTM error:\n",
       "        // https://lgtm.com/rules/1511866576920/\n",
       "        encodeURI(title).replaceAll(\"%20\", \" \") +\n",
       "        '\" />');\n",
       "});\n",
       "\n",
       "        $('#a0686248-867e-4711-b7f6-24e929937b48').DataTable(dt_args);\n",
       "    });\n",
       "</script>\n",
       "</div>\n"
      ],
      "text/plain": [
       "<IPython.core.display.HTML object>"
      ]
     },
     "metadata": {},
     "output_type": "display_data"
    },
    {
     "data": {
      "text/html": [
       "</br></br>"
      ],
      "text/plain": [
       "<IPython.core.display.HTML object>"
      ]
     },
     "metadata": {},
     "output_type": "display_data"
    },
    {
     "data": {
      "text/html": [
       "<h2>Table Stats</h2>"
      ],
      "text/plain": [
       "<IPython.core.display.HTML object>"
      ]
     },
     "metadata": {},
     "output_type": "display_data"
    },
    {
     "data": {
      "text/html": [
       "<style>.itables table td {\n",
       "    text-overflow: ellipsis;\n",
       "    overflow: hidden;\n",
       "}\n",
       "\n",
       ".itables table th {\n",
       "    text-overflow: ellipsis;\n",
       "    overflow: hidden;\n",
       "}\n",
       "\n",
       ".itables thead input {\n",
       "    width: 100%;\n",
       "    padding: 3px;\n",
       "    box-sizing: border-box;\n",
       "}\n",
       "\n",
       ".itables tfoot input {\n",
       "    width: 100%;\n",
       "    padding: 3px;\n",
       "    box-sizing: border-box;\n",
       "}\n",
       "</style>\n",
       "<div class=\"itables\">\n",
       "<table id=\"2cff0cec-84cf-41ea-81db-4c4fd82da31c\" class=\"display nowrap\"style=\"table-layout:auto\"><thead>\n",
       "    <tr style=\"text-align: right;\">\n",
       "      \n",
       "      <th>id</th>\n",
       "      <th>job_id</th>\n",
       "      <th>database_name</th>\n",
       "      <th>schema_name</th>\n",
       "      <th>table_name</th>\n",
       "      <th>field_count</th>\n",
       "      <th>full_name</th>\n",
       "      <th>row_count</th>\n",
       "      <th>included</th>\n",
       "    </tr>\n",
       "  </thead><tbody><tr><td>Loading... (need <a href=https://mwouts.github.io/itables/troubleshooting.html>help</a>?)</td></tr></tbody><tfoot><th>id</th><th>job_id</th><th>database_name</th><th>schema_name</th><th>table_name</th><th>field_count</th><th>full_name</th><th>row_count</th><th>included</th></tfoot></table>\n",
       "<link rel=\"stylesheet\" type=\"text/css\" href=\"https://cdn.datatables.net/1.13.1/css/jquery.dataTables.min.css\">\n",
       "<script type=\"module\">\n",
       "    // Import jquery and DataTable\n",
       "    import 'https://code.jquery.com/jquery-3.6.0.min.js';\n",
       "    import dt from 'https://cdn.datatables.net/1.12.1/js/jquery.dataTables.mjs';\n",
       "    dt($);\n",
       "\n",
       "    // Define the table data\n",
       "    const data = [[5664, 254, \"FSANALYTICS\", \"FSA\", \"Address\", 15, \"FSA.Address\", 0, 0], [5665, 254, \"FSANALYTICS\", \"FSA\", \"BondAnalytics\", 24, \"FSA.BondAnalytics\", 1126972, 1], [5666, 254, \"FSANALYTICS\", \"FSA\", \"BondAnalyticsOld\", 24, \"FSA.BondAnalyticsOld\", 0, 0], [5667, 254, \"FSANALYTICS\", \"FSA\", \"BusinessDates\", 4, \"FSA.BusinessDates\", 0, 0], [5668, 254, \"FSANALYTICS\", \"FSA\", \"Currency\", 11, \"FSA.Currency\", 0, 0], [5669, 254, \"FSANALYTICS\", \"FSA\", \"CustomerMaster\", 11, \"FSA.CustomerMaster\", 0, 0], [5670, 254, \"FSANALYTICS\", \"FSA\", \"DailyLimit\", 12, \"FSA.DailyLimit\", 0, 0], [5671, 254, \"FSANALYTICS\", \"FSA\", \"EquityAnalytics\", 28, \"FSA.EquityAnalytics\", 0, 0], [5672, 254, \"FSANALYTICS\", \"FSA\", \"EquityAnalyticsFeed\", 28, \"FSA.EquityAnalyticsFeed\", 0, 0], [5673, 254, \"FSANALYTICS\", \"FSA\", \"EquityPriceData\", 15, \"FSA.EquityPriceData\", 0, 0], [5674, 254, \"FSANALYTICS\", \"FSA\", \"EquityPriceDataNew\", 15, \"FSA.EquityPriceDataNew\", 107121581, 1], [5675, 254, \"FSANALYTICS\", \"FSA\", \"FactorSchedule\", 10, \"FSA.FactorSchedule\", 0, 0], [5676, 254, \"FSANALYTICS\", \"FSA\", \"Limits\", 11, \"FSA.Limits\", 0, 0], [5677, 254, \"FSANALYTICS\", \"FSA\", \"MarketCurve\", 12, \"FSA.MarketCurve\", 0, 0], [5678, 254, \"FSANALYTICS\", \"FSA\", \"MarketCurveNew\", 12, \"FSA.MarketCurveNew\", 0, 0], [5679, 254, \"FSANALYTICS\", \"FSA\", \"MarketData\", 15, \"FSA.MarketData\", 0, 0], [5680, 254, \"FSANALYTICS\", \"FSA\", \"Position\", 16, \"FSA.Position\", 33359597, 1], [5681, 254, \"FSANALYTICS\", \"FSA\", \"PositionA\", 26, \"FSA.PositionA\", 0, 0], [5682, 254, \"FSANALYTICS\", \"FSA\", \"PositionB\", 26, \"FSA.PositionB\", 0, 0], [5683, 254, \"FSANALYTICS\", \"FSA\", \"PositionOld\", 26, \"FSA.PositionOld\", 0, 0], [5684, 254, \"FSANALYTICS\", \"FSA\", \"PriceHist1Min\", 17, \"FSA.PriceHist1Min\", 0, 0], [5685, 254, \"FSANALYTICS\", \"FSA\", \"SecurityDip\", 4, \"FSA.SecurityDip\", 0, 0], [5686, 254, \"FSANALYTICS\", \"FSA\", \"SecurityMaster\", 29, \"FSA.SecurityMaster\", 104395, 1], [5687, 254, \"FSANALYTICS\", \"FSA\", \"SecurityMasterNew\", 29, \"FSA.SecurityMasterNew\", 0, 0], [5688, 254, \"FSANALYTICS\", \"FSA\", \"SecurityPriceRealTime\", 13, \"FSA.SecurityPriceRealTime\", 0, 0], [5689, 254, \"FSANALYTICS\", \"FSA\", \"SecurityPriceSnapShot\", 14, \"FSA.SecurityPriceSnapShot\", 0, 0], [5690, 254, \"FSANALYTICS\", \"FSA\", \"SecurityRating\", 9, \"FSA.SecurityRating\", 0, 0], [5691, 254, \"FSANALYTICS\", \"FSA\", \"Trade\", 15, \"FSA.Trade\", 188417, 1], [5692, 254, \"FSANALYTICS\", \"FSA\", \"TradeNumber\", 14, \"FSA.TradeNumber\", 0, 0], [5693, 254, \"FSANALYTICS\", \"FSA\", \"TradeSummary\", 10, \"FSA.TradeSummary\", 0, 0], [5694, 254, \"FSANALYTICS\", \"FSA\", \"TradeWithIndex\", 22, \"FSA.TradeWithIndex\", 0, 0], [5695, 254, \"FSANALYTICS\", \"FSA\", \"TradeWithIndex_Bak\", 17, \"FSA.TradeWithIndex_Bak\", 0, 0], [5696, 254, \"FSANALYTICS\", \"FSA\", \"TradingBook\", 7, \"FSA.TradingBook\", 0, 0], [5697, 254, \"FSANALYTICS\", \"FSA\", \"USTAuctionInfo\", 115, \"FSA.USTAuctionInfo\", 0, 0], [5698, 254, \"FSANALYTICS\", \"FSA\", \"USTsyMarks\", 14, \"FSA.USTsyMarks\", 0, 0]];\n",
       "\n",
       "    // Define the dt_args\n",
       "    let dt_args = {\"scrollY\": \"400px\", \"scrollCollapse\": true, \"paging\": false, \"scrollX\": true, \"order\": [], \"initComplete\": function () {\n",
       "    // Apply the search\n",
       "    this.api()\n",
       "        .columns()\n",
       "        .every(function () {\n",
       "            const that = this;\n",
       "\n",
       "            $('input', this.footer()).on('keyup change clear', function () {\n",
       "                if (that.search() !== this.value) {\n",
       "                    that.search(this.value).draw();\n",
       "                }\n",
       "            });\n",
       "        });\n",
       "}\n",
       "};\n",
       "    dt_args[\"data\"] = data;\n",
       "\n",
       "    $(document).ready(function () {\n",
       "        // Setup - add a text input to each header or footer cell\n",
       "$('#2cff0cec-84cf-41ea-81db-4c4fd82da31c tfoot th').each(function () {\n",
       "    let title = $(this).text();\n",
       "    $(this).html('<input type=\"text\" placeholder=\"Search ' +\n",
       "        // We use encodeURI to avoid this LGTM error:\n",
       "        // https://lgtm.com/rules/1511866576920/\n",
       "        encodeURI(title).replaceAll(\"%20\", \" \") +\n",
       "        '\" />');\n",
       "});\n",
       "\n",
       "        $('#2cff0cec-84cf-41ea-81db-4c4fd82da31c').DataTable(dt_args);\n",
       "    });\n",
       "</script>\n",
       "</div>\n"
      ],
      "text/plain": [
       "<IPython.core.display.HTML object>"
      ]
     },
     "metadata": {},
     "output_type": "display_data"
    },
    {
     "data": {
      "text/html": [
       "</br></br>"
      ],
      "text/plain": [
       "<IPython.core.display.HTML object>"
      ]
     },
     "metadata": {},
     "output_type": "display_data"
    },
    {
     "data": {
      "text/html": [
       "<h2>Table Schema</h2>"
      ],
      "text/plain": [
       "<IPython.core.display.HTML object>"
      ]
     },
     "metadata": {},
     "output_type": "display_data"
    },
    {
     "data": {
      "text/html": [
       "<style>.itables table td {\n",
       "    text-overflow: ellipsis;\n",
       "    overflow: hidden;\n",
       "}\n",
       "\n",
       ".itables table th {\n",
       "    text-overflow: ellipsis;\n",
       "    overflow: hidden;\n",
       "}\n",
       "\n",
       ".itables thead input {\n",
       "    width: 100%;\n",
       "    padding: 3px;\n",
       "    box-sizing: border-box;\n",
       "}\n",
       "\n",
       ".itables tfoot input {\n",
       "    width: 100%;\n",
       "    padding: 3px;\n",
       "    box-sizing: border-box;\n",
       "}\n",
       "</style>\n",
       "<div class=\"itables\">\n",
       "<table id=\"664528a9-e79c-4497-a969-1dfda728a5dd\" class=\"display nowrap\"style=\"table-layout:auto\"><thead>\n",
       "    <tr style=\"text-align: right;\">\n",
       "      \n",
       "      <th>job_id</th>\n",
       "      <th>db_name</th>\n",
       "      <th>schema_name</th>\n",
       "      <th>table_name</th>\n",
       "      <th>column_name</th>\n",
       "      <th>data_type</th>\n",
       "      <th>primary_key</th>\n",
       "      <th>min</th>\n",
       "      <th>max</th>\n",
       "      <th>avg</th>\n",
       "      <th>stddev</th>\n",
       "      <th>distinctcount</th>\n",
       "      <th>strat_names</th>\n",
       "    </tr>\n",
       "  </thead><tbody><tr><td>Loading... (need <a href=https://mwouts.github.io/itables/troubleshooting.html>help</a>?)</td></tr></tbody><tfoot><th>job_id</th><th>db_name</th><th>schema_name</th><th>table_name</th><th>column_name</th><th>data_type</th><th>primary_key</th><th>min</th><th>max</th><th>avg</th><th>stddev</th><th>distinctcount</th><th>strat_names</th></tfoot></table>\n",
       "<link rel=\"stylesheet\" type=\"text/css\" href=\"https://cdn.datatables.net/1.13.1/css/jquery.dataTables.min.css\">\n",
       "<script type=\"module\">\n",
       "    // Import jquery and DataTable\n",
       "    import 'https://code.jquery.com/jquery-3.6.0.min.js';\n",
       "    import dt from 'https://cdn.datatables.net/1.12.1/js/jquery.dataTables.mjs';\n",
       "    dt($);\n",
       "\n",
       "    // Define the table data\n",
       "    const data = [[254, \"FSANALYTICS\", \"FSA\", \"BondAnalytics\", \"AsOfDate\", \"date\", \"NO\", NaN, NaN, \"None\", \"None\", NaN, \"\"], [254, \"FSANALYTICS\", \"FSA\", \"BondAnalytics\", \"CalculatedPrice\", \"double\", \"NO\", 0.0, 211.6474, \"None\", \"None\", NaN, \"histogram\"], [254, \"FSANALYTICS\", \"FSA\", \"BondAnalytics\", \"createTimeStamp\", \"timestamp\", \"NO\", NaN, NaN, \"None\", \"None\", NaN, \"\"], [254, \"FSANALYTICS\", \"FSA\", \"BondAnalytics\", \"createUser\", \"varchar\", \"NO\", NaN, NaN, \"None\", \"None\", 1.0, \"\"], [254, \"FSANALYTICS\", \"FSA\", \"BondAnalytics\", \"Dv01\", \"double\", \"NO\", 0.0, 0.3376051, \"None\", \"None\", NaN, \"histogram\"], [254, \"FSANALYTICS\", \"FSA\", \"BondAnalytics\", \"ID\", \"bigint\", \"YES\", 1.0, 1127370.0, \"None\", \"None\", NaN, \"histogram\"], [254, \"FSANALYTICS\", \"FSA\", \"BondAnalytics\", \"KRD10Y\", \"double\", \"NO\", 0.0, 114178.1, \"None\", \"None\", NaN, \"histogram\"], [254, \"FSANALYTICS\", \"FSA\", \"BondAnalytics\", \"KRD1M\", \"double\", \"NO\", 0.0, 1021.172, \"None\", \"None\", NaN, \"histogram\"], [254, \"FSANALYTICS\", \"FSA\", \"BondAnalytics\", \"KRD1Y\", \"double\", \"NO\", 0.0, 10605.65, \"None\", \"None\", NaN, \"histogram\"], [254, \"FSANALYTICS\", \"FSA\", \"BondAnalytics\", \"KRD20Y\", \"double\", \"NO\", 0.0, 207777.0, \"None\", \"None\", NaN, \"histogram\"], [254, \"FSANALYTICS\", \"FSA\", \"BondAnalytics\", \"KRD2M\", \"double\", \"NO\", 0.0, 1803.904, \"None\", \"None\", NaN, \"histogram\"], [254, \"FSANALYTICS\", \"FSA\", \"BondAnalytics\", \"KRD2Y\", \"double\", \"NO\", 0.0, 21967.92, \"None\", \"None\", NaN, \"histogram\"], [254, \"FSANALYTICS\", \"FSA\", \"BondAnalytics\", \"KRD30Y\", \"double\", \"NO\", 0.0, 248572.2, \"None\", \"None\", NaN, \"histogram\"], [254, \"FSANALYTICS\", \"FSA\", \"BondAnalytics\", \"KRD3M\", \"double\", \"NO\", 0.0, 2700.512, \"None\", \"None\", NaN, \"histogram\"], [254, \"FSANALYTICS\", \"FSA\", \"BondAnalytics\", \"KRD3Y\", \"double\", \"NO\", 0.0, 32964.15, \"None\", \"None\", NaN, \"histogram\"], [254, \"FSANALYTICS\", \"FSA\", \"BondAnalytics\", \"KRD4M\", \"double\", \"NO\", 0.0, 3438.951, \"None\", \"None\", NaN, \"histogram\"], [254, \"FSANALYTICS\", \"FSA\", \"BondAnalytics\", \"KRD5Y\", \"double\", \"NO\", 0.0, 53198.29, \"None\", \"None\", NaN, \"histogram\"], [254, \"FSANALYTICS\", \"FSA\", \"BondAnalytics\", \"KRD6M\", \"double\", \"NO\", 0.0, 5309.375, \"None\", \"None\", NaN, \"histogram\"], [254, \"FSANALYTICS\", \"FSA\", \"BondAnalytics\", \"KRD7Y\", \"double\", \"NO\", 0.0, 73190.31, \"None\", \"None\", NaN, \"histogram\"], [254, \"FSANALYTICS\", \"FSA\", \"BondAnalytics\", \"Pv01\", \"double\", \"NO\", 0.0, 3376.051, \"None\", \"None\", NaN, \"histogram\"], [254, \"FSANALYTICS\", \"FSA\", \"BondAnalytics\", \"SecurityID\", \"varchar\", \"NO\", NaN, NaN, \"None\", \"None\", 1582.0, \"\"], [254, \"FSANALYTICS\", \"FSA\", \"BondAnalytics\", \"TradingBook\", \"varchar\", \"NO\", NaN, NaN, \"None\", \"None\", 1.0, \"\"], [254, \"FSANALYTICS\", \"FSA\", \"BondAnalytics\", \"updateTimeStamp\", \"timestamp\", \"NO\", NaN, NaN, \"None\", \"None\", NaN, \"\"], [254, \"FSANALYTICS\", \"FSA\", \"BondAnalytics\", \"updateUser\", \"varchar\", \"NO\", NaN, NaN, \"None\", \"None\", 0.0, \"\"], [254, \"FSANALYTICS\", \"FSA\", \"Position\", \"AsOfDate\", \"date\", \"NO\", NaN, NaN, \"None\", \"None\", NaN, \"\"], [254, \"FSANALYTICS\", \"FSA\", \"Position\", \"createTimeStamp\", \"timestamp\", \"NO\", NaN, NaN, \"None\", \"None\", NaN, \"\"], [254, \"FSANALYTICS\", \"FSA\", \"Position\", \"createUser\", \"varchar\", \"NO\", NaN, NaN, \"None\", \"None\", 1.0, \"\"], [254, \"FSANALYTICS\", \"FSA\", \"Position\", \"EndOfDayPrice\", \"double\", \"NO\", -892033900000000.0, 6487867000000.0, \"None\", \"None\", NaN, \"histogram\"], [254, \"FSANALYTICS\", \"FSA\", \"Position\", \"ID\", \"bigint\", \"YES\", 1.0, 33539240.0, \"None\", \"None\", NaN, \"histogram\"], [254, \"FSANALYTICS\", \"FSA\", \"Position\", \"MarketValue\", \"double\", \"NO\", -5.684826e+17, 1.784068e+17, \"None\", \"None\", NaN, \"histogram\"], [254, \"FSANALYTICS\", \"FSA\", \"Position\", \"PositionCurrency\", \"varchar\", \"NO\", NaN, NaN, \"None\", \"None\", 1.0, \"\"], [254, \"FSANALYTICS\", \"FSA\", \"Position\", \"PreviousEndOfDayPrice\", \"double\", \"NO\", -892033900000000.0, 6487867000000.0, \"None\", \"None\", NaN, \"histogram\"], [254, \"FSANALYTICS\", \"FSA\", \"Position\", \"Quantity\", \"double\", \"NO\", -5910000000.0, 7925000000.0, \"None\", \"None\", NaN, \"histogram\"], [254, \"FSANALYTICS\", \"FSA\", \"Position\", \"SecurityID\", \"varchar\", \"NO\", NaN, NaN, \"None\", \"None\", 35287.0, \"\"], [254, \"FSANALYTICS\", \"FSA\", \"Position\", \"StartOfDayPosition\", \"double\", \"NO\", -5910000000.0, 7925000000.0, \"None\", \"None\", NaN, \"histogram\"], [254, \"FSANALYTICS\", \"FSA\", \"Position\", \"StartOfDayPrice\", \"double\", \"NO\", -892033900000000.0, 6487867000000.0, \"None\", \"None\", NaN, \"histogram\"], [254, \"FSANALYTICS\", \"FSA\", \"Position\", \"TradeSettleAmount\", \"double\", \"NO\", -1.641651e+17, 5.71325e+17, \"None\", \"None\", NaN, \"histogram\"], [254, \"FSANALYTICS\", \"FSA\", \"Position\", \"TradingBook\", \"varchar\", \"NO\", NaN, NaN, \"None\", \"None\", 7.0, \"topdistinct\"], [254, \"FSANALYTICS\", \"FSA\", \"Position\", \"updateTimeStamp\", \"timestamp\", \"NO\", NaN, NaN, \"None\", \"None\", NaN, \"\"], [254, \"FSANALYTICS\", \"FSA\", \"Position\", \"updateUser\", \"varchar\", \"NO\", NaN, NaN, \"None\", \"None\", 0.0, \"\"], [254, \"FSANALYTICS\", \"FSA\", \"SecurityMaster\", \"Coupon\", \"double\", \"NO\", 0.13, 16.25, \"None\", \"None\", NaN, \"histogram\"], [254, \"FSANALYTICS\", \"FSA\", \"SecurityMaster\", \"CouponFrequency\", \"integer\", \"NO\", 2.0, 2.0, \"None\", \"None\", NaN, \"histogram\"], [254, \"FSANALYTICS\", \"FSA\", \"SecurityMaster\", \"CouponType\", \"varchar\", \"NO\", NaN, NaN, \"None\", \"None\", 1.0, \"\"], [254, \"FSANALYTICS\", \"FSA\", \"SecurityMaster\", \"createTimeStamp\", \"timestamp\", \"NO\", NaN, NaN, \"None\", \"None\", NaN, \"\"], [254, \"FSANALYTICS\", \"FSA\", \"SecurityMaster\", \"createUser\", \"varchar\", \"NO\", NaN, NaN, \"None\", \"None\", 2.0, \"topdistinct\"], [254, \"FSANALYTICS\", \"FSA\", \"SecurityMaster\", \"Currency\", \"varchar\", \"NO\", NaN, NaN, \"None\", \"None\", 1.0, \"\"], [254, \"FSANALYTICS\", \"FSA\", \"SecurityMaster\", \"Cusip\", \"varchar\", \"NO\", NaN, NaN, \"None\", \"None\", 4178.0, \"\"], [254, \"FSANALYTICS\", \"FSA\", \"SecurityMaster\", \"DatedDate\", \"date\", \"NO\", NaN, NaN, \"None\", \"None\", NaN, \"\"], [254, \"FSANALYTICS\", \"FSA\", \"SecurityMaster\", \"DayCount\", \"varchar\", \"NO\", NaN, NaN, \"None\", \"None\", 1.0, \"\"], [254, \"FSANALYTICS\", \"FSA\", \"SecurityMaster\", \"Description\", \"varchar\", \"NO\", NaN, NaN, \"None\", \"None\", 72448.0, \"\"], [254, \"FSANALYTICS\", \"FSA\", \"SecurityMaster\", \"FirstCouponDate\", \"date\", \"NO\", NaN, NaN, \"None\", \"None\", NaN, \"\"], [254, \"FSANALYTICS\", \"FSA\", \"SecurityMaster\", \"FitchRating\", \"varchar\", \"NO\", NaN, NaN, \"None\", \"None\", 14.0, \"topdistinct\"], [254, \"FSANALYTICS\", \"FSA\", \"SecurityMaster\", \"ID\", \"bigint\", \"YES\", 1.0, 108660.0, \"None\", \"None\", NaN, \"histogram\"], [254, \"FSANALYTICS\", \"FSA\", \"SecurityMaster\", \"IsinCode\", \"varchar\", \"NO\", NaN, NaN, \"None\", \"None\", 102.0, \"\"], [254, \"FSANALYTICS\", \"FSA\", \"SecurityMaster\", \"IssueDate\", \"date\", \"NO\", NaN, NaN, \"None\", \"None\", NaN, \"\"], [254, \"FSANALYTICS\", \"FSA\", \"SecurityMaster\", \"Issuer\", \"varchar\", \"NO\", NaN, NaN, \"None\", \"None\", 70774.0, \"\"], [254, \"FSANALYTICS\", \"FSA\", \"SecurityMaster\", \"MaturityDate\", \"date\", \"NO\", NaN, NaN, \"None\", \"None\", NaN, \"\"], [254, \"FSANALYTICS\", \"FSA\", \"SecurityMaster\", \"MoodysRating\", \"varchar\", \"NO\", NaN, NaN, \"None\", \"None\", 1.0, \"\"], [254, \"FSANALYTICS\", \"FSA\", \"SecurityMaster\", \"OriginalTerm\", \"integer\", \"NO\", 0.0, 0.0, \"None\", \"None\", NaN, \"histogram\"], [254, \"FSANALYTICS\", \"FSA\", \"SecurityMaster\", \"ProductSubType\", \"varchar\", \"NO\", NaN, NaN, \"None\", \"None\", 21.0, \"topdistinct\"], [254, \"FSANALYTICS\", \"FSA\", \"SecurityMaster\", \"ProductType\", \"varchar\", \"NO\", NaN, NaN, \"None\", \"None\", 3.0, \"topdistinct\"], [254, \"FSANALYTICS\", \"FSA\", \"SecurityMaster\", \"Sector\", \"varchar\", \"NO\", NaN, NaN, \"None\", \"None\", 10.0, \"topdistinct\"], [254, \"FSANALYTICS\", \"FSA\", \"SecurityMaster\", \"SecurityId\", \"varchar\", \"NO\", NaN, NaN, \"None\", \"None\", NaN, \"\"], [254, \"FSANALYTICS\", \"FSA\", \"SecurityMaster\", \"SecurityType\", \"varchar\", \"NO\", NaN, NaN, \"None\", \"None\", 4.0, \"topdistinct\"], [254, \"FSANALYTICS\", \"FSA\", \"SecurityMaster\", \"SettlementDays\", \"integer\", \"NO\", 0.0, 2.0, \"None\", \"None\", NaN, \"histogram\"], [254, \"FSANALYTICS\", \"FSA\", \"SecurityMaster\", \"SnPRating\", \"varchar\", \"NO\", NaN, NaN, \"None\", \"None\", 17.0, \"topdistinct\"], [254, \"FSANALYTICS\", \"FSA\", \"SecurityMaster\", \"SubSector\", \"varchar\", \"NO\", NaN, NaN, \"None\", \"None\", 28.0, \"topdistinct\"], [254, \"FSANALYTICS\", \"FSA\", \"SecurityMaster\", \"updateTimeStamp\", \"timestamp\", \"NO\", NaN, NaN, \"None\", \"None\", NaN, \"\"], [254, \"FSANALYTICS\", \"FSA\", \"SecurityMaster\", \"updateUser\", \"varchar\", \"NO\", NaN, NaN, \"None\", \"None\", 0.0, \"\"], [254, \"FSANALYTICS\", \"FSA\", \"Trade\", \"AsOfDate\", \"date\", \"NO\", NaN, NaN, \"None\", \"None\", NaN, \"\"], [254, \"FSANALYTICS\", \"FSA\", \"Trade\", \"BuySell\", \"varchar\", \"NO\", NaN, NaN, \"None\", \"None\", 2.0, \"topdistinct\"], [254, \"FSANALYTICS\", \"FSA\", \"Trade\", \"Counterparty\", \"varchar\", \"NO\", NaN, NaN, \"None\", \"None\", 3.0, \"topdistinct\"], [254, \"FSANALYTICS\", \"FSA\", \"Trade\", \"createTimeStamp\", \"timestamp\", \"NO\", NaN, NaN, \"None\", \"None\", NaN, \"\"], [254, \"FSANALYTICS\", \"FSA\", \"Trade\", \"createUser\", \"varchar\", \"NO\", NaN, NaN, \"None\", \"None\", 1.0, \"\"], [254, \"FSANALYTICS\", \"FSA\", \"Trade\", \"ID\", \"bigint\", \"YES\", 1.0, 221785.0, \"None\", \"None\", NaN, \"histogram\"], [254, \"FSANALYTICS\", \"FSA\", \"Trade\", \"Price\", \"double\", \"NO\", 0.0, 320500.0, \"None\", \"None\", NaN, \"histogram\"], [254, \"FSANALYTICS\", \"FSA\", \"Trade\", \"Quantity\", \"double\", \"NO\", 500.0, 15000000.0, \"None\", \"None\", NaN, \"histogram\"], [254, \"FSANALYTICS\", \"FSA\", \"Trade\", \"SecurityID\", \"varchar\", \"NO\", NaN, NaN, \"None\", \"None\", 3061.0, \"\"], [254, \"FSANALYTICS\", \"FSA\", \"Trade\", \"SettleDate\", \"date\", \"NO\", NaN, NaN, \"None\", \"None\", NaN, \"\"], [254, \"FSANALYTICS\", \"FSA\", \"Trade\", \"SettlementAmount\", \"double\", \"NO\", -1590000000.0, 1589531000.0, \"None\", \"None\", NaN, \"histogram\"], [254, \"FSANALYTICS\", \"FSA\", \"Trade\", \"TradeDate\", \"date\", \"NO\", NaN, NaN, \"None\", \"None\", NaN, \"\"], [254, \"FSANALYTICS\", \"FSA\", \"Trade\", \"TradingBook\", \"varchar\", \"NO\", NaN, NaN, \"None\", \"None\", 20.0, \"topdistinct\"], [254, \"FSANALYTICS\", \"FSA\", \"Trade\", \"updateTimeStamp\", \"timestamp\", \"NO\", NaN, NaN, \"None\", \"None\", NaN, \"\"], [254, \"FSANALYTICS\", \"FSA\", \"Trade\", \"updateUser\", \"varchar\", \"NO\", NaN, NaN, \"None\", \"None\", 0.0, \"\"]];\n",
       "\n",
       "    // Define the dt_args\n",
       "    let dt_args = {\"scrollY\": \"400px\", \"scrollCollapse\": true, \"paging\": false, \"scrollX\": true, \"order\": [], \"initComplete\": function () {\n",
       "    // Apply the search\n",
       "    this.api()\n",
       "        .columns()\n",
       "        .every(function () {\n",
       "            const that = this;\n",
       "\n",
       "            $('input', this.footer()).on('keyup change clear', function () {\n",
       "                if (that.search() !== this.value) {\n",
       "                    that.search(this.value).draw();\n",
       "                }\n",
       "            });\n",
       "        });\n",
       "}\n",
       "};\n",
       "    dt_args[\"data\"] = data;\n",
       "\n",
       "    $(document).ready(function () {\n",
       "        // Setup - add a text input to each header or footer cell\n",
       "$('#664528a9-e79c-4497-a969-1dfda728a5dd tfoot th').each(function () {\n",
       "    let title = $(this).text();\n",
       "    $(this).html('<input type=\"text\" placeholder=\"Search ' +\n",
       "        // We use encodeURI to avoid this LGTM error:\n",
       "        // https://lgtm.com/rules/1511866576920/\n",
       "        encodeURI(title).replaceAll(\"%20\", \" \") +\n",
       "        '\" />');\n",
       "});\n",
       "\n",
       "        $('#664528a9-e79c-4497-a969-1dfda728a5dd').DataTable(dt_args);\n",
       "    });\n",
       "</script>\n",
       "</div>\n"
      ],
      "text/plain": [
       "<IPython.core.display.HTML object>"
      ]
     },
     "metadata": {},
     "output_type": "display_data"
    },
    {
     "data": {
      "text/html": [
       "</br></br>"
      ],
      "text/plain": [
       "<IPython.core.display.HTML object>"
      ]
     },
     "metadata": {},
     "output_type": "display_data"
    },
    {
     "data": {
      "text/html": [
       "<h2>Column histograms</h2>"
      ],
      "text/plain": [
       "<IPython.core.display.HTML object>"
      ]
     },
     "metadata": {},
     "output_type": "display_data"
    },
    {
     "data": {
      "text/html": [
       "<style>.itables table td {\n",
       "    text-overflow: ellipsis;\n",
       "    overflow: hidden;\n",
       "}\n",
       "\n",
       ".itables table th {\n",
       "    text-overflow: ellipsis;\n",
       "    overflow: hidden;\n",
       "}\n",
       "\n",
       ".itables thead input {\n",
       "    width: 100%;\n",
       "    padding: 3px;\n",
       "    box-sizing: border-box;\n",
       "}\n",
       "\n",
       ".itables tfoot input {\n",
       "    width: 100%;\n",
       "    padding: 3px;\n",
       "    box-sizing: border-box;\n",
       "}\n",
       "</style>\n",
       "<div class=\"itables\">\n",
       "<table id=\"93fd4449-f256-48c8-90b0-c10933650a30\" class=\"display nowrap\"style=\"table-layout:auto\"><thead>\n",
       "    <tr style=\"text-align: right;\">\n",
       "      \n",
       "      <th>id</th>\n",
       "      <th>db_instance</th>\n",
       "      <th>db_name</th>\n",
       "      <th>table_name</th>\n",
       "      <th>field_name</th>\n",
       "      <th>job_id</th>\n",
       "      <th>bucket_number</th>\n",
       "      <th>minval</th>\n",
       "      <th>maxval</th>\n",
       "      <th>count</th>\n",
       "    </tr>\n",
       "  </thead><tbody><tr><td>Loading... (need <a href=https://mwouts.github.io/itables/troubleshooting.html>help</a>?)</td></tr></tbody><tfoot><th>id</th><th>db_instance</th><th>db_name</th><th>table_name</th><th>field_name</th><th>job_id</th><th>bucket_number</th><th>minval</th><th>maxval</th><th>count</th></tfoot></table>\n",
       "<link rel=\"stylesheet\" type=\"text/css\" href=\"https://cdn.datatables.net/1.13.1/css/jquery.dataTables.min.css\">\n",
       "<script type=\"module\">\n",
       "    // Import jquery and DataTable\n",
       "    import 'https://code.jquery.com/jquery-3.6.0.min.js';\n",
       "    import dt from 'https://cdn.datatables.net/1.12.1/js/jquery.dataTables.mjs';\n",
       "    dt($);\n",
       "\n",
       "    // Define the table data\n",
       "    const data = [[21724, \"FSANALYTICS\", \"FSANALYTICS\", \"FSA.BondAnalytics\", \"CalculatedPrice\", 254, 1, 0.0, 20.0, 0], [21725, \"FSANALYTICS\", \"FSANALYTICS\", \"FSA.BondAnalytics\", \"CalculatedPrice\", 254, 2, 20.0, 40.0, 43], [21726, \"FSANALYTICS\", \"FSANALYTICS\", \"FSA.BondAnalytics\", \"CalculatedPrice\", 254, 3, 40.0, 60.0, 3144], [21727, \"FSANALYTICS\", \"FSANALYTICS\", \"FSA.BondAnalytics\", \"CalculatedPrice\", 254, 4, 60.0, 80.0, 11308], [21728, \"FSANALYTICS\", \"FSANALYTICS\", \"FSA.BondAnalytics\", \"CalculatedPrice\", 254, 5, 80.0, 100.0, 332177], [21729, \"FSANALYTICS\", \"FSANALYTICS\", \"FSA.BondAnalytics\", \"CalculatedPrice\", 254, 6, 100.0, 120.0, 622664], [21730, \"FSANALYTICS\", \"FSANALYTICS\", \"FSA.BondAnalytics\", \"CalculatedPrice\", 254, 7, 120.0, 140.0, 104936], [21731, \"FSANALYTICS\", \"FSANALYTICS\", \"FSA.BondAnalytics\", \"CalculatedPrice\", 254, 8, 140.0, 160.0, 45173], [21732, \"FSANALYTICS\", \"FSANALYTICS\", \"FSA.BondAnalytics\", \"CalculatedPrice\", 254, 9, 160.0, 180.0, 5109], [21733, \"FSANALYTICS\", \"FSANALYTICS\", \"FSA.BondAnalytics\", \"CalculatedPrice\", 254, 10, 180.0, 200.0, 1076], [21734, \"FSANALYTICS\", \"FSANALYTICS\", \"FSA.BondAnalytics\", \"CalculatedPrice\", 254, 11, 200.0, 220.0, 158], [21735, \"FSANALYTICS\", \"FSANALYTICS\", \"FSA.BondAnalytics\", \"Dv01\", 254, 1, 0.0, 0.02, 402875], [21736, \"FSANALYTICS\", \"FSANALYTICS\", \"FSA.BondAnalytics\", \"Dv01\", 254, 2, 0.02, 0.04, 232324], [21737, \"FSANALYTICS\", \"FSANALYTICS\", \"FSA.BondAnalytics\", \"Dv01\", 254, 3, 0.04, 0.06, 166314], [21738, \"FSANALYTICS\", \"FSANALYTICS\", \"FSA.BondAnalytics\", \"Dv01\", 254, 4, 0.06, 0.08, 94851], [21739, \"FSANALYTICS\", \"FSANALYTICS\", \"FSA.BondAnalytics\", \"Dv01\", 254, 5, 0.08, 0.1, 52386], [21740, \"FSANALYTICS\", \"FSANALYTICS\", \"FSA.BondAnalytics\", \"Dv01\", 254, 6, 0.1, 0.12, 20337], [21741, \"FSANALYTICS\", \"FSANALYTICS\", \"FSA.BondAnalytics\", \"Dv01\", 254, 7, 0.12, 0.14, 19803], [21742, \"FSANALYTICS\", \"FSANALYTICS\", \"FSA.BondAnalytics\", \"Dv01\", 254, 8, 0.14, 0.16, 19729], [21743, \"FSANALYTICS\", \"FSANALYTICS\", \"FSA.BondAnalytics\", \"Dv01\", 254, 9, 0.16, 0.18, 23470], [21744, \"FSANALYTICS\", \"FSANALYTICS\", \"FSA.BondAnalytics\", \"Dv01\", 254, 10, 0.18, 0.2, 33373], [21745, \"FSANALYTICS\", \"FSANALYTICS\", \"FSA.BondAnalytics\", \"Dv01\", 254, 11, 0.2, 0.22, 28718], [21746, \"FSANALYTICS\", \"FSANALYTICS\", \"FSA.BondAnalytics\", \"Dv01\", 254, 12, 0.22, 0.24, 18669], [21747, \"FSANALYTICS\", \"FSANALYTICS\", \"FSA.BondAnalytics\", \"Dv01\", 254, 13, 0.24, 0.26, 8024], [21748, \"FSANALYTICS\", \"FSANALYTICS\", \"FSA.BondAnalytics\", \"Dv01\", 254, 14, 0.26, 0.28, 3072], [21749, \"FSANALYTICS\", \"FSANALYTICS\", \"FSA.BondAnalytics\", \"Dv01\", 254, 15, 0.28, 0.3, 1372], [21750, \"FSANALYTICS\", \"FSANALYTICS\", \"FSA.BondAnalytics\", \"Dv01\", 254, 16, 0.3, 0.32, 336], [21751, \"FSANALYTICS\", \"FSANALYTICS\", \"FSA.BondAnalytics\", \"Dv01\", 254, 17, 0.32, 0.34, 11], [21752, \"FSANALYTICS\", \"FSANALYTICS\", \"FSA.BondAnalytics\", \"ID\", 254, 1, 0.0, 100000.0, 100000], [21753, \"FSANALYTICS\", \"FSANALYTICS\", \"FSA.BondAnalytics\", \"ID\", 254, 2, 100000.0, 200000.0, 100000], [21754, \"FSANALYTICS\", \"FSANALYTICS\", \"FSA.BondAnalytics\", \"ID\", 254, 3, 200000.0, 300000.0, 100000], [21755, \"FSANALYTICS\", \"FSANALYTICS\", \"FSA.BondAnalytics\", \"ID\", 254, 4, 300000.0, 400000.0, 99602], [21756, \"FSANALYTICS\", \"FSANALYTICS\", \"FSA.BondAnalytics\", \"ID\", 254, 5, 400000.0, 500000.0, 100000], [21757, \"FSANALYTICS\", \"FSANALYTICS\", \"FSA.BondAnalytics\", \"ID\", 254, 6, 500000.0, 600000.0, 100000], [21758, \"FSANALYTICS\", \"FSANALYTICS\", \"FSA.BondAnalytics\", \"ID\", 254, 7, 600000.0, 700000.0, 100000], [21759, \"FSANALYTICS\", \"FSANALYTICS\", \"FSA.BondAnalytics\", \"ID\", 254, 8, 700000.0, 800000.0, 100000], [21760, \"FSANALYTICS\", \"FSANALYTICS\", \"FSA.BondAnalytics\", \"ID\", 254, 9, 800000.0, 900000.0, 100000], [21761, \"FSANALYTICS\", \"FSANALYTICS\", \"FSA.BondAnalytics\", \"ID\", 254, 10, 900000.0, 1000000.0, 100000], [21762, \"FSANALYTICS\", \"FSANALYTICS\", \"FSA.BondAnalytics\", \"ID\", 254, 11, 1000000.0, 1100000.0, 100000], [21763, \"FSANALYTICS\", \"FSANALYTICS\", \"FSA.BondAnalytics\", \"ID\", 254, 12, 1100000.0, 1200000.0, 27370], [21764, \"FSANALYTICS\", \"FSANALYTICS\", \"FSA.BondAnalytics\", \"KRD10Y\", 254, 1, 0.0, 10000.0, 30153], [21765, \"FSANALYTICS\", \"FSANALYTICS\", \"FSA.BondAnalytics\", \"KRD10Y\", 254, 2, 10000.0, 20000.0, 57313], [21766, \"FSANALYTICS\", \"FSANALYTICS\", \"FSA.BondAnalytics\", \"KRD10Y\", 254, 3, 20000.0, 30000.0, 64448], [21767, \"FSANALYTICS\", \"FSANALYTICS\", \"FSA.BondAnalytics\", \"KRD10Y\", 254, 4, 30000.0, 40000.0, 21534], [21768, \"FSANALYTICS\", \"FSANALYTICS\", \"FSA.BondAnalytics\", \"KRD10Y\", 254, 5, 40000.0, 50000.0, 14617], [21769, \"FSANALYTICS\", \"FSANALYTICS\", \"FSA.BondAnalytics\", \"KRD10Y\", 254, 6, 50000.0, 60000.0, 14789], [21770, \"FSANALYTICS\", \"FSANALYTICS\", \"FSA.BondAnalytics\", \"KRD10Y\", 254, 7, 60000.0, 70000.0, 14355], [21771, \"FSANALYTICS\", \"FSANALYTICS\", \"FSA.BondAnalytics\", \"KRD10Y\", 254, 8, 70000.0, 80000.0, 17589], [21772, \"FSANALYTICS\", \"FSANALYTICS\", \"FSA.BondAnalytics\", \"KRD10Y\", 254, 9, 80000.0, 90000.0, 19639], [21773, \"FSANALYTICS\", \"FSANALYTICS\", \"FSA.BondAnalytics\", \"KRD10Y\", 254, 10, 90000.0, 100000.0, 12582], [21774, \"FSANALYTICS\", \"FSANALYTICS\", \"FSA.BondAnalytics\", \"KRD10Y\", 254, 11, 100000.0, 110000.0, 1890], [21775, \"FSANALYTICS\", \"FSANALYTICS\", \"FSA.BondAnalytics\", \"KRD10Y\", 254, 12, 110000.0, 120000.0, 108], [21776, \"FSANALYTICS\", \"FSANALYTICS\", \"FSA.BondAnalytics\", \"KRD1M\", 254, 1, 0.0, 100.0, 402679], [21777, \"FSANALYTICS\", \"FSANALYTICS\", \"FSA.BondAnalytics\", \"KRD1M\", 254, 2, 100.0, 200.0, 5082], [21778, \"FSANALYTICS\", \"FSANALYTICS\", \"FSA.BondAnalytics\", \"KRD1M\", 254, 3, 200.0, 300.0, 5213], [21779, \"FSANALYTICS\", \"FSANALYTICS\", \"FSA.BondAnalytics\", \"KRD1M\", 254, 4, 300.0, 400.0, 5286], [21780, \"FSANALYTICS\", \"FSANALYTICS\", \"FSA.BondAnalytics\", \"KRD1M\", 254, 5, 400.0, 500.0, 5728], [21781, \"FSANALYTICS\", \"FSANALYTICS\", \"FSA.BondAnalytics\", \"KRD1M\", 254, 6, 500.0, 600.0, 6020], [21782, \"FSANALYTICS\", \"FSANALYTICS\", \"FSA.BondAnalytics\", \"KRD1M\", 254, 7, 600.0, 700.0, 6672], [21783, \"FSANALYTICS\", \"FSANALYTICS\", \"FSA.BondAnalytics\", \"KRD1M\", 254, 8, 700.0, 800.0, 7632], [21784, \"FSANALYTICS\", \"FSANALYTICS\", \"FSA.BondAnalytics\", \"KRD1M\", 254, 9, 800.0, 900.0, 9689], [21785, \"FSANALYTICS\", \"FSANALYTICS\", \"FSA.BondAnalytics\", \"KRD1M\", 254, 10, 900.0, 1000.0, 10361], [21786, \"FSANALYTICS\", \"FSANALYTICS\", \"FSA.BondAnalytics\", \"KRD1M\", 254, 11, 1000.0, 1100.0, 12], [21787, \"FSANALYTICS\", \"FSANALYTICS\", \"FSA.BondAnalytics\", \"KRD1Y\", 254, 1, 0.0, 1000.0, 743143], [21788, \"FSANALYTICS\", \"FSANALYTICS\", \"FSA.BondAnalytics\", \"KRD1Y\", 254, 2, 1000.0, 2000.0, 21589], [21789, \"FSANALYTICS\", \"FSANALYTICS\", \"FSA.BondAnalytics\", \"KRD1Y\", 254, 3, 2000.0, 3000.0, 20349], [21790, \"FSANALYTICS\", \"FSANALYTICS\", \"FSA.BondAnalytics\", \"KRD1Y\", 254, 4, 3000.0, 4000.0, 19888], [21791, \"FSANALYTICS\", \"FSANALYTICS\", \"FSA.BondAnalytics\", \"KRD1Y\", 254, 5, 4000.0, 5000.0, 19855], [21792, \"FSANALYTICS\", \"FSANALYTICS\", \"FSA.BondAnalytics\", \"KRD1Y\", 254, 6, 5000.0, 6000.0, 20266], [21793, \"FSANALYTICS\", \"FSANALYTICS\", \"FSA.BondAnalytics\", \"KRD1Y\", 254, 7, 6000.0, 7000.0, 21321], [21794, \"FSANALYTICS\", \"FSANALYTICS\", \"FSA.BondAnalytics\", \"KRD1Y\", 254, 8, 7000.0, 8000.0, 23374], [21795, \"FSANALYTICS\", \"FSANALYTICS\", \"FSA.BondAnalytics\", \"KRD1Y\", 254, 9, 8000.0, 9000.0, 28138], [21796, \"FSANALYTICS\", \"FSANALYTICS\", \"FSA.BondAnalytics\", \"KRD1Y\", 254, 10, 9000.0, 10000.0, 49463], [21797, \"FSANALYTICS\", \"FSANALYTICS\", \"FSA.BondAnalytics\", \"KRD1Y\", 254, 11, 10000.0, 11000.0, 10176], [21798, \"FSANALYTICS\", \"FSANALYTICS\", \"FSA.BondAnalytics\", \"KRD20Y\", 254, 1, 0.0, 20000.0, 13464], [21799, \"FSANALYTICS\", \"FSANALYTICS\", \"FSA.BondAnalytics\", \"KRD20Y\", 254, 2, 20000.0, 40000.0, 15045], [21800, \"FSANALYTICS\", \"FSANALYTICS\", \"FSA.BondAnalytics\", \"KRD20Y\", 254, 3, 40000.0, 60000.0, 22162], [21801, \"FSANALYTICS\", \"FSANALYTICS\", \"FSA.BondAnalytics\", \"KRD20Y\", 254, 4, 60000.0, 80000.0, 21676], [21802, \"FSANALYTICS\", \"FSANALYTICS\", \"FSA.BondAnalytics\", \"KRD20Y\", 254, 5, 80000.0, 100000.0, 26406], [21803, \"FSANALYTICS\", \"FSANALYTICS\", \"FSA.BondAnalytics\", \"KRD20Y\", 254, 6, 100000.0, 120000.0, 25600], [21804, \"FSANALYTICS\", \"FSANALYTICS\", \"FSA.BondAnalytics\", \"KRD20Y\", 254, 7, 120000.0, 140000.0, 23601], [21805, \"FSANALYTICS\", \"FSANALYTICS\", \"FSA.BondAnalytics\", \"KRD20Y\", 254, 8, 140000.0, 160000.0, 14599], [21806, \"FSANALYTICS\", \"FSANALYTICS\", \"FSA.BondAnalytics\", \"KRD20Y\", 254, 9, 160000.0, 180000.0, 5678], [21807, \"FSANALYTICS\", \"FSANALYTICS\", \"FSA.BondAnalytics\", \"KRD20Y\", 254, 10, 180000.0, 200000.0, 1607], [21808, \"FSANALYTICS\", \"FSANALYTICS\", \"FSA.BondAnalytics\", \"KRD20Y\", 254, 11, 200000.0, 220000.0, 43], [21809, \"FSANALYTICS\", \"FSANALYTICS\", \"FSA.BondAnalytics\", \"KRD2M\", 254, 1, 0.0, 100.0, 130608], [21810, \"FSANALYTICS\", \"FSANALYTICS\", \"FSA.BondAnalytics\", \"KRD2M\", 254, 2, 100.0, 200.0, 1303], [21811, \"FSANALYTICS\", \"FSANALYTICS\", \"FSA.BondAnalytics\", \"KRD2M\", 254, 3, 200.0, 300.0, 1208], [21812, \"FSANALYTICS\", \"FSANALYTICS\", \"FSA.BondAnalytics\", \"KRD2M\", 254, 4, 300.0, 400.0, 1249], [21813, \"FSANALYTICS\", \"FSANALYTICS\", \"FSA.BondAnalytics\", \"KRD2M\", 254, 5, 400.0, 500.0, 1446], [21814, \"FSANALYTICS\", \"FSANALYTICS\", \"FSA.BondAnalytics\", \"KRD2M\", 254, 6, 500.0, 600.0, 1081], [21815, \"FSANALYTICS\", \"FSANALYTICS\", \"FSA.BondAnalytics\", \"KRD2M\", 254, 7, 600.0, 700.0, 1184], [21816, \"FSANALYTICS\", \"FSANALYTICS\", \"FSA.BondAnalytics\", \"KRD2M\", 254, 8, 700.0, 800.0, 1096], [21817, \"FSANALYTICS\", \"FSANALYTICS\", \"FSA.BondAnalytics\", \"KRD2M\", 254, 9, 800.0, 900.0, 1284], [21818, \"FSANALYTICS\", \"FSANALYTICS\", \"FSA.BondAnalytics\", \"KRD2M\", 254, 10, 900.0, 1000.0, 1187], [21819, \"FSANALYTICS\", \"FSANALYTICS\", \"FSA.BondAnalytics\", \"KRD2M\", 254, 11, 1000.0, 1100.0, 993], [21820, \"FSANALYTICS\", \"FSANALYTICS\", \"FSA.BondAnalytics\", \"KRD2M\", 254, 12, 1100.0, 1200.0, 1052], [21821, \"FSANALYTICS\", \"FSANALYTICS\", \"FSA.BondAnalytics\", \"KRD2M\", 254, 13, 1200.0, 1300.0, 1372], [21822, \"FSANALYTICS\", \"FSANALYTICS\", \"FSA.BondAnalytics\", \"KRD2M\", 254, 14, 1300.0, 1400.0, 1369], [21823, \"FSANALYTICS\", \"FSANALYTICS\", \"FSA.BondAnalytics\", \"KRD2M\", 254, 15, 1400.0, 1500.0, 1074], [21824, \"FSANALYTICS\", \"FSANALYTICS\", \"FSA.BondAnalytics\", \"KRD2M\", 254, 16, 1500.0, 1600.0, 1099], [21825, \"FSANALYTICS\", \"FSANALYTICS\", \"FSA.BondAnalytics\", \"KRD2M\", 254, 17, 1600.0, 1700.0, 1300], [21826, \"FSANALYTICS\", \"FSANALYTICS\", \"FSA.BondAnalytics\", \"KRD2M\", 254, 18, 1700.0, 1800.0, 205], [21827, \"FSANALYTICS\", \"FSANALYTICS\", \"FSA.BondAnalytics\", \"KRD2M\", 254, 19, 1800.0, 1900.0, 1], [21828, \"FSANALYTICS\", \"FSANALYTICS\", \"FSA.BondAnalytics\", \"KRD2Y\", 254, 1, 0.0, 2000.0, 625367], [21829, \"FSANALYTICS\", \"FSANALYTICS\", \"FSA.BondAnalytics\", \"KRD2Y\", 254, 2, 2000.0, 4000.0, 31355], [21830, \"FSANALYTICS\", \"FSANALYTICS\", \"FSA.BondAnalytics\", \"KRD2Y\", 254, 3, 4000.0, 6000.0, 28734], [21831, \"FSANALYTICS\", \"FSANALYTICS\", \"FSA.BondAnalytics\", \"KRD2Y\", 254, 4, 6000.0, 8000.0, 27170], [21832, \"FSANALYTICS\", \"FSANALYTICS\", \"FSA.BondAnalytics\", \"KRD2Y\", 254, 5, 8000.0, 10000.0, 26459], [21833, \"FSANALYTICS\", \"FSANALYTICS\", \"FSA.BondAnalytics\", \"KRD2Y\", 254, 6, 10000.0, 12000.0, 26274], [21834, \"FSANALYTICS\", \"FSANALYTICS\", \"FSA.BondAnalytics\", \"KRD2Y\", 254, 7, 12000.0, 14000.0, 26688], [21835, \"FSANALYTICS\", \"FSANALYTICS\", \"FSA.BondAnalytics\", \"KRD2Y\", 254, 8, 14000.0, 16000.0, 27907], [21836, \"FSANALYTICS\", \"FSANALYTICS\", \"FSA.BondAnalytics\", \"KRD2Y\", 254, 9, 16000.0, 18000.0, 29982], [21837, \"FSANALYTICS\", \"FSANALYTICS\", \"FSA.BondAnalytics\", \"KRD2Y\", 254, 10, 18000.0, 20000.0, 29837], [21838, \"FSANALYTICS\", \"FSANALYTICS\", \"FSA.BondAnalytics\", \"KRD2Y\", 254, 11, 20000.0, 22000.0, 2339], [21839, \"FSANALYTICS\", \"FSANALYTICS\", \"FSA.BondAnalytics\", \"KRD30Y\", 254, 1, 0.0, 20000.0, 9110], [21840, \"FSANALYTICS\", \"FSANALYTICS\", \"FSA.BondAnalytics\", \"KRD30Y\", 254, 2, 20000.0, 40000.0, 11115], [21841, \"FSANALYTICS\", \"FSANALYTICS\", \"FSA.BondAnalytics\", \"KRD30Y\", 254, 3, 40000.0, 60000.0, 12764], [21842, \"FSANALYTICS\", \"FSANALYTICS\", \"FSA.BondAnalytics\", \"KRD30Y\", 254, 4, 60000.0, 80000.0, 15125], [21843, \"FSANALYTICS\", \"FSANALYTICS\", \"FSA.BondAnalytics\", \"KRD30Y\", 254, 5, 80000.0, 100000.0, 18042], [21844, \"FSANALYTICS\", \"FSANALYTICS\", \"FSA.BondAnalytics\", \"KRD30Y\", 254, 6, 100000.0, 120000.0, 17635], [21845, \"FSANALYTICS\", \"FSANALYTICS\", \"FSA.BondAnalytics\", \"KRD30Y\", 254, 7, 120000.0, 140000.0, 15025], [21846, \"FSANALYTICS\", \"FSANALYTICS\", \"FSA.BondAnalytics\", \"KRD30Y\", 254, 8, 140000.0, 160000.0, 9131], [21847, \"FSANALYTICS\", \"FSANALYTICS\", \"FSA.BondAnalytics\", \"KRD30Y\", 254, 9, 160000.0, 180000.0, 3167], [21848, \"FSANALYTICS\", \"FSANALYTICS\", \"FSA.BondAnalytics\", \"KRD30Y\", 254, 10, 180000.0, 200000.0, 1275], [21849, \"FSANALYTICS\", \"FSANALYTICS\", \"FSA.BondAnalytics\", \"KRD30Y\", 254, 11, 200000.0, 220000.0, 736], [21850, \"FSANALYTICS\", \"FSANALYTICS\", \"FSA.BondAnalytics\", \"KRD30Y\", 254, 12, 220000.0, 240000.0, 124], [21851, \"FSANALYTICS\", \"FSANALYTICS\", \"FSA.BondAnalytics\", \"KRD30Y\", 254, 13, 240000.0, 260000.0, 2], [21852, \"FSANALYTICS\", \"FSANALYTICS\", \"FSA.BondAnalytics\", \"KRD3M\", 254, 1, 0.0, 200.0, 715241], [21853, \"FSANALYTICS\", \"FSANALYTICS\", \"FSA.BondAnalytics\", \"KRD3M\", 254, 2, 200.0, 400.0, 7890], [21854, \"FSANALYTICS\", \"FSANALYTICS\", \"FSA.BondAnalytics\", \"KRD3M\", 254, 3, 400.0, 600.0, 6223], [21855, \"FSANALYTICS\", \"FSANALYTICS\", \"FSA.BondAnalytics\", \"KRD3M\", 254, 4, 600.0, 800.0, 7062], [21856, \"FSANALYTICS\", \"FSANALYTICS\", \"FSA.BondAnalytics\", \"KRD3M\", 254, 5, 800.0, 1000.0, 6357], [21857, \"FSANALYTICS\", \"FSANALYTICS\", \"FSA.BondAnalytics\", \"KRD3M\", 254, 6, 1000.0, 1200.0, 6128], [21858, \"FSANALYTICS\", \"FSANALYTICS\", \"FSA.BondAnalytics\", \"KRD3M\", 254, 7, 1200.0, 1400.0, 6890], [21859, \"FSANALYTICS\", \"FSANALYTICS\", \"FSA.BondAnalytics\", \"KRD3M\", 254, 8, 1400.0, 1600.0, 6827], [21860, \"FSANALYTICS\", \"FSANALYTICS\", \"FSA.BondAnalytics\", \"KRD3M\", 254, 9, 1600.0, 1800.0, 7937], [21861, \"FSANALYTICS\", \"FSANALYTICS\", \"FSA.BondAnalytics\", \"KRD3M\", 254, 10, 1800.0, 2000.0, 7651], [21862, \"FSANALYTICS\", \"FSANALYTICS\", \"FSA.BondAnalytics\", \"KRD3M\", 254, 11, 2000.0, 2200.0, 8948], [21863, \"FSANALYTICS\", \"FSANALYTICS\", \"FSA.BondAnalytics\", \"KRD3M\", 254, 12, 2200.0, 2400.0, 11779], [21864, \"FSANALYTICS\", \"FSANALYTICS\", \"FSA.BondAnalytics\", \"KRD3M\", 254, 13, 2400.0, 2600.0, 16742], [21865, \"FSANALYTICS\", \"FSANALYTICS\", \"FSA.BondAnalytics\", \"KRD3M\", 254, 14, 2600.0, 2800.0, 124], [21866, \"FSANALYTICS\", \"FSANALYTICS\", \"FSA.BondAnalytics\", \"KRD3Y\", 254, 1, 0.0, 2000.0, 279831], [21867, \"FSANALYTICS\", \"FSANALYTICS\", \"FSA.BondAnalytics\", \"KRD3Y\", 254, 2, 2000.0, 4000.0, 139234], [21868, \"FSANALYTICS\", \"FSANALYTICS\", \"FSA.BondAnalytics\", \"KRD3Y\", 254, 3, 4000.0, 6000.0, 26708], [21869, \"FSANALYTICS\", \"FSANALYTICS\", \"FSA.BondAnalytics\", \"KRD3Y\", 254, 4, 6000.0, 8000.0, 18974], [21870, \"FSANALYTICS\", \"FSANALYTICS\", \"FSA.BondAnalytics\", \"KRD3Y\", 254, 5, 8000.0, 10000.0, 18859], [21871, \"FSANALYTICS\", \"FSANALYTICS\", \"FSA.BondAnalytics\", \"KRD3Y\", 254, 6, 10000.0, 12000.0, 19097], [21872, \"FSANALYTICS\", \"FSANALYTICS\", \"FSA.BondAnalytics\", \"KRD3Y\", 254, 7, 12000.0, 14000.0, 19496], [21873, \"FSANALYTICS\", \"FSANALYTICS\", \"FSA.BondAnalytics\", \"KRD3Y\", 254, 8, 14000.0, 16000.0, 19837], [21874, \"FSANALYTICS\", \"FSANALYTICS\", \"FSA.BondAnalytics\", \"KRD3Y\", 254, 9, 16000.0, 18000.0, 20516], [21875, \"FSANALYTICS\", \"FSANALYTICS\", \"FSA.BondAnalytics\", \"KRD3Y\", 254, 10, 18000.0, 20000.0, 21265], [21876, \"FSANALYTICS\", \"FSANALYTICS\", \"FSA.BondAnalytics\", \"KRD3Y\", 254, 11, 20000.0, 22000.0, 22523], [21877, \"FSANALYTICS\", \"FSANALYTICS\", \"FSA.BondAnalytics\", \"KRD3Y\", 254, 12, 22000.0, 24000.0, 24448], [21878, \"FSANALYTICS\", \"FSANALYTICS\", \"FSA.BondAnalytics\", \"KRD3Y\", 254, 13, 24000.0, 26000.0, 27614], [21879, \"FSANALYTICS\", \"FSANALYTICS\", \"FSA.BondAnalytics\", \"KRD3Y\", 254, 14, 26000.0, 28000.0, 32540], [21880, \"FSANALYTICS\", \"FSANALYTICS\", \"FSA.BondAnalytics\", \"KRD3Y\", 254, 15, 28000.0, 30000.0, 26548], [21881, \"FSANALYTICS\", \"FSANALYTICS\", \"FSA.BondAnalytics\", \"KRD3Y\", 254, 16, 30000.0, 32000.0, 3160], [21882, \"FSANALYTICS\", \"FSANALYTICS\", \"FSA.BondAnalytics\", \"KRD3Y\", 254, 17, 32000.0, 34000.0, 12], [21883, \"FSANALYTICS\", \"FSANALYTICS\", \"FSA.BondAnalytics\", \"KRD4M\", 254, 1, 0.0, 200.0, 7806], [21884, \"FSANALYTICS\", \"FSANALYTICS\", \"FSA.BondAnalytics\", \"KRD4M\", 254, 2, 200.0, 400.0, 48], [21885, \"FSANALYTICS\", \"FSANALYTICS\", \"FSA.BondAnalytics\", \"KRD4M\", 254, 3, 400.0, 600.0, 65], [21886, \"FSANALYTICS\", \"FSANALYTICS\", \"FSA.BondAnalytics\", \"KRD4M\", 254, 4, 600.0, 800.0, 51], [21887, \"FSANALYTICS\", \"FSANALYTICS\", \"FSA.BondAnalytics\", \"KRD4M\", 254, 5, 800.0, 1000.0, 45], [21888, \"FSANALYTICS\", \"FSANALYTICS\", \"FSA.BondAnalytics\", \"KRD4M\", 254, 6, 1000.0, 1200.0, 57], [21889, \"FSANALYTICS\", \"FSANALYTICS\", \"FSA.BondAnalytics\", \"KRD4M\", 254, 7, 1200.0, 1400.0, 45], [21890, \"FSANALYTICS\", \"FSANALYTICS\", \"FSA.BondAnalytics\", \"KRD4M\", 254, 8, 1400.0, 1600.0, 62], [21891, \"FSANALYTICS\", \"FSANALYTICS\", \"FSA.BondAnalytics\", \"KRD4M\", 254, 9, 1600.0, 1800.0, 50], [21892, \"FSANALYTICS\", \"FSANALYTICS\", \"FSA.BondAnalytics\", \"KRD4M\", 254, 10, 1800.0, 2000.0, 68], [21893, \"FSANALYTICS\", \"FSANALYTICS\", \"FSA.BondAnalytics\", \"KRD4M\", 254, 11, 2000.0, 2200.0, 63], [21894, \"FSANALYTICS\", \"FSANALYTICS\", \"FSA.BondAnalytics\", \"KRD4M\", 254, 12, 2200.0, 2400.0, 59], [21895, \"FSANALYTICS\", \"FSANALYTICS\", \"FSA.BondAnalytics\", \"KRD4M\", 254, 13, 2400.0, 2600.0, 73], [21896, \"FSANALYTICS\", \"FSANALYTICS\", \"FSA.BondAnalytics\", \"KRD4M\", 254, 14, 2600.0, 2800.0, 70], [21897, \"FSANALYTICS\", \"FSANALYTICS\", \"FSA.BondAnalytics\", \"KRD4M\", 254, 15, 2800.0, 3000.0, 78], [21898, \"FSANALYTICS\", \"FSANALYTICS\", \"FSA.BondAnalytics\", \"KRD4M\", 254, 16, 3000.0, 3200.0, 74], [21899, \"FSANALYTICS\", \"FSANALYTICS\", \"FSA.BondAnalytics\", \"KRD4M\", 254, 17, 3200.0, 3400.0, 70], [21900, \"FSANALYTICS\", \"FSANALYTICS\", \"FSA.BondAnalytics\", \"KRD4M\", 254, 18, 3400.0, 3600.0, 2], [21901, \"FSANALYTICS\", \"FSANALYTICS\", \"FSA.BondAnalytics\", \"KRD5Y\", 254, 1, 0.0, 4000.0, 202645], [21902, \"FSANALYTICS\", \"FSANALYTICS\", \"FSA.BondAnalytics\", \"KRD5Y\", 254, 2, 4000.0, 8000.0, 119801], [21903, \"FSANALYTICS\", \"FSANALYTICS\", \"FSA.BondAnalytics\", \"KRD5Y\", 254, 3, 8000.0, 12000.0, 30482], [21904, \"FSANALYTICS\", \"FSANALYTICS\", \"FSA.BondAnalytics\", \"KRD5Y\", 254, 4, 12000.0, 16000.0, 26555], [21905, \"FSANALYTICS\", \"FSANALYTICS\", \"FSA.BondAnalytics\", \"KRD5Y\", 254, 5, 16000.0, 20000.0, 25935], [21906, \"FSANALYTICS\", \"FSANALYTICS\", \"FSA.BondAnalytics\", \"KRD5Y\", 254, 6, 20000.0, 24000.0, 25589], [21907, \"FSANALYTICS\", \"FSANALYTICS\", \"FSA.BondAnalytics\", \"KRD5Y\", 254, 7, 24000.0, 28000.0, 25332], [21908, \"FSANALYTICS\", \"FSANALYTICS\", \"FSA.BondAnalytics\", \"KRD5Y\", 254, 8, 28000.0, 32000.0, 25485], [21909, \"FSANALYTICS\", \"FSANALYTICS\", \"FSA.BondAnalytics\", \"KRD5Y\", 254, 9, 32000.0, 36000.0, 25714], [21910, \"FSANALYTICS\", \"FSANALYTICS\", \"FSA.BondAnalytics\", \"KRD5Y\", 254, 10, 36000.0, 40000.0, 26824], [21911, \"FSANALYTICS\", \"FSANALYTICS\", \"FSA.BondAnalytics\", \"KRD5Y\", 254, 11, 40000.0, 44000.0, 28119], [21912, \"FSANALYTICS\", \"FSANALYTICS\", \"FSA.BondAnalytics\", \"KRD5Y\", 254, 12, 44000.0, 48000.0, 22650], [21913, \"FSANALYTICS\", \"FSANALYTICS\", \"FSA.BondAnalytics\", \"KRD5Y\", 254, 13, 48000.0, 52000.0, 6095], [21914, \"FSANALYTICS\", \"FSANALYTICS\", \"FSA.BondAnalytics\", \"KRD5Y\", 254, 14, 52000.0, 56000.0, 133], [21915, \"FSANALYTICS\", \"FSANALYTICS\", \"FSA.BondAnalytics\", \"KRD6M\", 254, 1, 0.0, 400.0, 887656], [21916, \"FSANALYTICS\", \"FSANALYTICS\", \"FSA.BondAnalytics\", \"KRD6M\", 254, 2, 400.0, 800.0, 12600], [21917, \"FSANALYTICS\", \"FSANALYTICS\", \"FSA.BondAnalytics\", \"KRD6M\", 254, 3, 800.0, 1200.0, 11379], [21918, \"FSANALYTICS\", \"FSANALYTICS\", \"FSA.BondAnalytics\", \"KRD6M\", 254, 4, 1200.0, 1600.0, 10543], [21919, \"FSANALYTICS\", \"FSANALYTICS\", \"FSA.BondAnalytics\", \"KRD6M\", 254, 5, 1600.0, 2000.0, 10772], [21920, \"FSANALYTICS\", \"FSANALYTICS\", \"FSA.BondAnalytics\", \"KRD6M\", 254, 6, 2000.0, 2400.0, 10419], [21921, \"FSANALYTICS\", \"FSANALYTICS\", \"FSA.BondAnalytics\", \"KRD6M\", 254, 7, 2400.0, 2800.0, 10748], [21922, \"FSANALYTICS\", \"FSANALYTICS\", \"FSA.BondAnalytics\", \"KRD6M\", 254, 8, 2800.0, 3200.0, 10777], [21923, \"FSANALYTICS\", \"FSANALYTICS\", \"FSA.BondAnalytics\", \"KRD6M\", 254, 9, 3200.0, 3600.0, 11220], [21924, \"FSANALYTICS\", \"FSANALYTICS\", \"FSA.BondAnalytics\", \"KRD6M\", 254, 10, 3600.0, 4000.0, 11920], [21925, \"FSANALYTICS\", \"FSANALYTICS\", \"FSA.BondAnalytics\", \"KRD6M\", 254, 11, 4000.0, 4400.0, 13188], [21926, \"FSANALYTICS\", \"FSANALYTICS\", \"FSA.BondAnalytics\", \"KRD6M\", 254, 12, 4400.0, 4800.0, 17673], [21927, \"FSANALYTICS\", \"FSANALYTICS\", \"FSA.BondAnalytics\", \"KRD6M\", 254, 13, 4800.0, 5200.0, 22155], [21928, \"FSANALYTICS\", \"FSANALYTICS\", \"FSA.BondAnalytics\", \"KRD6M\", 254, 14, 5200.0, 5600.0, 108], [21929, \"FSANALYTICS\", \"FSANALYTICS\", \"FSA.BondAnalytics\", \"KRD7Y\", 254, 1, 0.0, 4000.0, 44112], [21930, \"FSANALYTICS\", \"FSANALYTICS\", \"FSA.BondAnalytics\", \"KRD7Y\", 254, 2, 4000.0, 8000.0, 117290], [21931, \"FSANALYTICS\", \"FSANALYTICS\", \"FSA.BondAnalytics\", \"KRD7Y\", 254, 3, 8000.0, 12000.0, 39823], [21932, \"FSANALYTICS\", \"FSANALYTICS\", \"FSA.BondAnalytics\", \"KRD7Y\", 254, 4, 12000.0, 16000.0, 16980], [21933, \"FSANALYTICS\", \"FSANALYTICS\", \"FSA.BondAnalytics\", \"KRD7Y\", 254, 5, 16000.0, 20000.0, 12830], [21934, \"FSANALYTICS\", \"FSANALYTICS\", \"FSA.BondAnalytics\", \"KRD7Y\", 254, 6, 20000.0, 24000.0, 12757], [21935, \"FSANALYTICS\", \"FSANALYTICS\", \"FSA.BondAnalytics\", \"KRD7Y\", 254, 7, 24000.0, 28000.0, 12890], [21936, \"FSANALYTICS\", \"FSANALYTICS\", \"FSA.BondAnalytics\", \"KRD7Y\", 254, 8, 28000.0, 32000.0, 13016], [21937, \"FSANALYTICS\", \"FSANALYTICS\", \"FSA.BondAnalytics\", \"KRD7Y\", 254, 9, 32000.0, 36000.0, 13323], [21938, \"FSANALYTICS\", \"FSANALYTICS\", \"FSA.BondAnalytics\", \"KRD7Y\", 254, 10, 36000.0, 40000.0, 13690], [21939, \"FSANALYTICS\", \"FSANALYTICS\", \"FSA.BondAnalytics\", \"KRD7Y\", 254, 11, 40000.0, 44000.0, 14233], [21940, \"FSANALYTICS\", \"FSANALYTICS\", \"FSA.BondAnalytics\", \"KRD7Y\", 254, 12, 44000.0, 48000.0, 14334], [21941, \"FSANALYTICS\", \"FSANALYTICS\", \"FSA.BondAnalytics\", \"KRD7Y\", 254, 13, 48000.0, 52000.0, 14880], [21942, \"FSANALYTICS\", \"FSANALYTICS\", \"FSA.BondAnalytics\", \"KRD7Y\", 254, 14, 52000.0, 56000.0, 15922], [21943, \"FSANALYTICS\", \"FSANALYTICS\", \"FSA.BondAnalytics\", \"KRD7Y\", 254, 15, 56000.0, 60000.0, 16460], [21944, \"FSANALYTICS\", \"FSANALYTICS\", \"FSA.BondAnalytics\", \"KRD7Y\", 254, 16, 60000.0, 64000.0, 12682], [21945, \"FSANALYTICS\", \"FSANALYTICS\", \"FSA.BondAnalytics\", \"KRD7Y\", 254, 17, 64000.0, 68000.0, 5800], [21946, \"FSANALYTICS\", \"FSANALYTICS\", \"FSA.BondAnalytics\", \"KRD7Y\", 254, 18, 68000.0, 72000.0, 1124], [21947, \"FSANALYTICS\", \"FSANALYTICS\", \"FSA.BondAnalytics\", \"KRD7Y\", 254, 19, 72000.0, 76000.0, 34], [21948, \"FSANALYTICS\", \"FSANALYTICS\", \"FSA.BondAnalytics\", \"Pv01\", 254, 1, 0.0, 200.0, 402875], [21949, \"FSANALYTICS\", \"FSANALYTICS\", \"FSA.BondAnalytics\", \"Pv01\", 254, 2, 200.0, 400.0, 232324], [21950, \"FSANALYTICS\", \"FSANALYTICS\", \"FSA.BondAnalytics\", \"Pv01\", 254, 3, 400.0, 600.0, 166314], [21951, \"FSANALYTICS\", \"FSANALYTICS\", \"FSA.BondAnalytics\", \"Pv01\", 254, 4, 600.0, 800.0, 94851], [21952, \"FSANALYTICS\", \"FSANALYTICS\", \"FSA.BondAnalytics\", \"Pv01\", 254, 5, 800.0, 1000.0, 52386], [21953, \"FSANALYTICS\", \"FSANALYTICS\", \"FSA.BondAnalytics\", \"Pv01\", 254, 6, 1000.0, 1200.0, 20337], [21954, \"FSANALYTICS\", \"FSANALYTICS\", \"FSA.BondAnalytics\", \"Pv01\", 254, 7, 1200.0, 1400.0, 19803], [21955, \"FSANALYTICS\", \"FSANALYTICS\", \"FSA.BondAnalytics\", \"Pv01\", 254, 8, 1400.0, 1600.0, 19729], [21956, \"FSANALYTICS\", \"FSANALYTICS\", \"FSA.BondAnalytics\", \"Pv01\", 254, 9, 1600.0, 1800.0, 23470], [21957, \"FSANALYTICS\", \"FSANALYTICS\", \"FSA.BondAnalytics\", \"Pv01\", 254, 10, 1800.0, 2000.0, 33373], [21958, \"FSANALYTICS\", \"FSANALYTICS\", \"FSA.BondAnalytics\", \"Pv01\", 254, 11, 2000.0, 2200.0, 28718], [21959, \"FSANALYTICS\", \"FSANALYTICS\", \"FSA.BondAnalytics\", \"Pv01\", 254, 12, 2200.0, 2400.0, 18669], [21960, \"FSANALYTICS\", \"FSANALYTICS\", \"FSA.BondAnalytics\", \"Pv01\", 254, 13, 2400.0, 2600.0, 8024], [21961, \"FSANALYTICS\", \"FSANALYTICS\", \"FSA.BondAnalytics\", \"Pv01\", 254, 14, 2600.0, 2800.0, 3072], [21962, \"FSANALYTICS\", \"FSANALYTICS\", \"FSA.BondAnalytics\", \"Pv01\", 254, 15, 2800.0, 3000.0, 1372], [21963, \"FSANALYTICS\", \"FSANALYTICS\", \"FSA.BondAnalytics\", \"Pv01\", 254, 16, 3000.0, 3200.0, 336], [21964, \"FSANALYTICS\", \"FSANALYTICS\", \"FSA.BondAnalytics\", \"Pv01\", 254, 17, 3200.0, 3400.0, 11], [21965, \"FSANALYTICS\", \"FSANALYTICS\", \"FSA.Position\", \"EndOfDayPrice\", 254, 1, -900000000000000.0, -860000000000000.0, 1], [21966, \"FSANALYTICS\", \"FSANALYTICS\", \"FSA.Position\", \"EndOfDayPrice\", 254, 2, -860000000000000.0, -820000000000000.0, 2], [21967, \"FSANALYTICS\", \"FSANALYTICS\", \"FSA.Position\", \"EndOfDayPrice\", 254, 3, -820000000000000.0, -780000000000000.0, 7], [21968, \"FSANALYTICS\", \"FSANALYTICS\", \"FSA.Position\", \"EndOfDayPrice\", 254, 4, -780000000000000.0, -740000000000000.0, 11], [21969, \"FSANALYTICS\", \"FSANALYTICS\", \"FSA.Position\", \"EndOfDayPrice\", 254, 5, -740000000000000.0, -700000000000000.0, 24], [21970, \"FSANALYTICS\", \"FSANALYTICS\", \"FSA.Position\", \"EndOfDayPrice\", 254, 6, -700000000000000.0, -660000000000000.0, 44], [21971, \"FSANALYTICS\", \"FSANALYTICS\", \"FSA.Position\", \"EndOfDayPrice\", 254, 7, -660000000000000.0, -620000000000000.0, 3], [21972, \"FSANALYTICS\", \"FSANALYTICS\", \"FSA.Position\", \"EndOfDayPrice\", 254, 8, -620000000000000.0, -580000000000000.0, 25], [21973, \"FSANALYTICS\", \"FSANALYTICS\", \"FSA.Position\", \"EndOfDayPrice\", 254, 9, -580000000000000.0, -540000000000000.0, 3], [21974, \"FSANALYTICS\", \"FSANALYTICS\", \"FSA.Position\", \"EndOfDayPrice\", 254, 10, -540000000000000.0, -500000000000000.0, 0], [21975, \"FSANALYTICS\", \"FSANALYTICS\", \"FSA.Position\", \"EndOfDayPrice\", 254, 11, -500000000000000.0, -460000000000000.0, 0], [21976, \"FSANALYTICS\", \"FSANALYTICS\", \"FSA.Position\", \"EndOfDayPrice\", 254, 12, -460000000000000.0, -420000000000000.0, 0], [21977, \"FSANALYTICS\", \"FSANALYTICS\", \"FSA.Position\", \"EndOfDayPrice\", 254, 13, -420000000000000.0, -380000000000000.0, 0], [21978, \"FSANALYTICS\", \"FSANALYTICS\", \"FSA.Position\", \"EndOfDayPrice\", 254, 14, -380000000000000.0, -340000000000000.0, 0], [21979, \"FSANALYTICS\", \"FSANALYTICS\", \"FSA.Position\", \"EndOfDayPrice\", 254, 15, -340000000000000.0, -300000000000000.0, 0], [21980, \"FSANALYTICS\", \"FSANALYTICS\", \"FSA.Position\", \"EndOfDayPrice\", 254, 16, -300000000000000.0, -260000000000000.0, 0], [21981, \"FSANALYTICS\", \"FSANALYTICS\", \"FSA.Position\", \"EndOfDayPrice\", 254, 17, -260000000000000.0, -220000000000000.0, 0], [21982, \"FSANALYTICS\", \"FSANALYTICS\", \"FSA.Position\", \"EndOfDayPrice\", 254, 18, -220000000000000.0, -180000000000000.0, 0], [21983, \"FSANALYTICS\", \"FSANALYTICS\", \"FSA.Position\", \"EndOfDayPrice\", 254, 19, -180000000000000.0, -140000000000000.0, 0], [21984, \"FSANALYTICS\", \"FSANALYTICS\", \"FSA.Position\", \"EndOfDayPrice\", 254, 20, -140000000000000.0, -100000000000000.0, 0], [21985, \"FSANALYTICS\", \"FSANALYTICS\", \"FSA.Position\", \"EndOfDayPrice\", 254, 21, -100000000000000.0, -60000000000000.0, 0], [21986, \"FSANALYTICS\", \"FSANALYTICS\", \"FSA.Position\", \"EndOfDayPrice\", 254, 22, -60000000000000.0, -20000000000000.0, 0], [21987, \"FSANALYTICS\", \"FSANALYTICS\", \"FSA.Position\", \"EndOfDayPrice\", 254, 23, -20000000000000.0, 20000000000000.0, 33358271], [21988, \"FSANALYTICS\", \"FSANALYTICS\", \"FSA.Position\", \"ID\", 254, 1, 0.0, 2000000.0, 2000000], [21989, \"FSANALYTICS\", \"FSANALYTICS\", \"FSA.Position\", \"ID\", 254, 2, 2000000.0, 4000000.0, 1996718], [21990, \"FSANALYTICS\", \"FSANALYTICS\", \"FSA.Position\", \"ID\", 254, 3, 4000000.0, 6000000.0, 1992746], [21991, \"FSANALYTICS\", \"FSANALYTICS\", \"FSA.Position\", \"ID\", 254, 4, 6000000.0, 8000000.0, 1991324], [21992, \"FSANALYTICS\", \"FSANALYTICS\", \"FSA.Position\", \"ID\", 254, 5, 8000000.0, 10000000.0, 1990801], [21993, \"FSANALYTICS\", \"FSANALYTICS\", \"FSA.Position\", \"ID\", 254, 6, 10000000.0, 12000000.0, 1990027], [21994, \"FSANALYTICS\", \"FSANALYTICS\", \"FSA.Position\", \"ID\", 254, 7, 12000000.0, 14000000.0, 1989785], [21995, \"FSANALYTICS\", \"FSANALYTICS\", \"FSA.Position\", \"ID\", 254, 8, 14000000.0, 16000000.0, 1989217], [21996, \"FSANALYTICS\", \"FSANALYTICS\", \"FSA.Position\", \"ID\", 254, 9, 16000000.0, 18000000.0, 1989020], [21997, \"FSANALYTICS\", \"FSANALYTICS\", \"FSA.Position\", \"ID\", 254, 10, 18000000.0, 20000000.0, 1988406], [21998, \"FSANALYTICS\", \"FSANALYTICS\", \"FSA.Position\", \"ID\", 254, 11, 20000000.0, 22000000.0, 1988408], [21999, \"FSANALYTICS\", \"FSANALYTICS\", \"FSA.Position\", \"ID\", 254, 12, 22000000.0, 24000000.0, 1987855], [22000, \"FSANALYTICS\", \"FSANALYTICS\", \"FSA.Position\", \"ID\", 254, 13, 24000000.0, 26000000.0, 1987183], [22001, \"FSANALYTICS\", \"FSANALYTICS\", \"FSA.Position\", \"ID\", 254, 14, 26000000.0, 28000000.0, 1984962], [22002, \"FSANALYTICS\", \"FSANALYTICS\", \"FSA.Position\", \"ID\", 254, 15, 28000000.0, 30000000.0, 1983703], [22003, \"FSANALYTICS\", \"FSANALYTICS\", \"FSA.Position\", \"ID\", 254, 16, 30000000.0, 32000000.0, 1983509], [22004, \"FSANALYTICS\", \"FSANALYTICS\", \"FSA.Position\", \"ID\", 254, 17, 32000000.0, 34000000.0, 1525933], [22005, \"FSANALYTICS\", \"FSANALYTICS\", \"FSA.Position\", \"MarketValue\", 254, 1, -5.7e+17, -5.3e+17, 4], [22006, \"FSANALYTICS\", \"FSANALYTICS\", \"FSA.Position\", \"MarketValue\", 254, 2, -5.3e+17, -4.9e+17, 0], [22007, \"FSANALYTICS\", \"FSANALYTICS\", \"FSA.Position\", \"MarketValue\", 254, 3, -4.9e+17, -4.5e+17, 0], [22008, \"FSANALYTICS\", \"FSANALYTICS\", \"FSA.Position\", \"MarketValue\", 254, 4, -4.5e+17, -4.1e+17, 9], [22009, \"FSANALYTICS\", \"FSANALYTICS\", \"FSA.Position\", \"MarketValue\", 254, 5, -4.1e+17, -3.7e+17, 6], [22010, \"FSANALYTICS\", \"FSANALYTICS\", \"FSA.Position\", \"MarketValue\", 254, 6, -3.7e+17, -3.3e+17, 0], [22011, \"FSANALYTICS\", \"FSANALYTICS\", \"FSA.Position\", \"MarketValue\", 254, 7, -3.3e+17, -2.9e+17, 0], [22012, \"FSANALYTICS\", \"FSANALYTICS\", \"FSA.Position\", \"MarketValue\", 254, 8, -2.9e+17, -2.5e+17, 0], [22013, \"FSANALYTICS\", \"FSANALYTICS\", \"FSA.Position\", \"MarketValue\", 254, 9, -2.5e+17, -2.1e+17, 0], [22014, \"FSANALYTICS\", \"FSANALYTICS\", \"FSA.Position\", \"MarketValue\", 254, 10, -2.1e+17, -1.7e+17, 0], [22015, \"FSANALYTICS\", \"FSANALYTICS\", \"FSA.Position\", \"MarketValue\", 254, 11, -1.7e+17, -1.3e+17, 0], [22016, \"FSANALYTICS\", \"FSANALYTICS\", \"FSA.Position\", \"MarketValue\", 254, 12, -1.3e+17, -9e+16, 27], [22017, \"FSANALYTICS\", \"FSANALYTICS\", \"FSA.Position\", \"MarketValue\", 254, 13, -9e+16, -5e+16, 0], [22018, \"FSANALYTICS\", \"FSANALYTICS\", \"FSA.Position\", \"MarketValue\", 254, 14, -5e+16, -1e+16, 0], [22019, \"FSANALYTICS\", \"FSANALYTICS\", \"FSA.Position\", \"MarketValue\", 254, 15, -1e+16, 3e+16, 33358271], [22020, \"FSANALYTICS\", \"FSANALYTICS\", \"FSA.Position\", \"MarketValue\", 254, 16, 3e+16, 7e+16, 0], [22021, \"FSANALYTICS\", \"FSANALYTICS\", \"FSA.Position\", \"MarketValue\", 254, 17, 7e+16, 1.1e+17, 0], [22022, \"FSANALYTICS\", \"FSANALYTICS\", \"FSA.Position\", \"MarketValue\", 254, 18, 1.1e+17, 1.5e+17, 54], [22023, \"FSANALYTICS\", \"FSANALYTICS\", \"FSA.Position\", \"MarketValue\", 254, 19, 1.5e+17, 1.9e+17, 20], [22024, \"FSANALYTICS\", \"FSANALYTICS\", \"FSA.Position\", \"PreviousEndOfDayPrice\", 254, 1, -900000000000000.0, -860000000000000.0, 1], [22025, \"FSANALYTICS\", \"FSANALYTICS\", \"FSA.Position\", \"PreviousEndOfDayPrice\", 254, 2, -860000000000000.0, -820000000000000.0, 2], [22026, \"FSANALYTICS\", \"FSANALYTICS\", \"FSA.Position\", \"PreviousEndOfDayPrice\", 254, 3, -820000000000000.0, -780000000000000.0, 8], [22027, \"FSANALYTICS\", \"FSANALYTICS\", \"FSA.Position\", \"PreviousEndOfDayPrice\", 254, 4, -780000000000000.0, -740000000000000.0, 11], [22028, \"FSANALYTICS\", \"FSANALYTICS\", \"FSA.Position\", \"PreviousEndOfDayPrice\", 254, 5, -740000000000000.0, -700000000000000.0, 25], [22029, \"FSANALYTICS\", \"FSANALYTICS\", \"FSA.Position\", \"PreviousEndOfDayPrice\", 254, 6, -700000000000000.0, -660000000000000.0, 45], [22030, \"FSANALYTICS\", \"FSANALYTICS\", \"FSA.Position\", \"PreviousEndOfDayPrice\", 254, 7, -660000000000000.0, -620000000000000.0, 3], [22031, \"FSANALYTICS\", \"FSANALYTICS\", \"FSA.Position\", \"PreviousEndOfDayPrice\", 254, 8, -620000000000000.0, -580000000000000.0, 26], [22032, \"FSANALYTICS\", \"FSANALYTICS\", \"FSA.Position\", \"PreviousEndOfDayPrice\", 254, 9, -580000000000000.0, -540000000000000.0, 3], [22033, \"FSANALYTICS\", \"FSANALYTICS\", \"FSA.Position\", \"PreviousEndOfDayPrice\", 254, 10, -540000000000000.0, -500000000000000.0, 0], [22034, \"FSANALYTICS\", \"FSANALYTICS\", \"FSA.Position\", \"PreviousEndOfDayPrice\", 254, 11, -500000000000000.0, -460000000000000.0, 0], [22035, \"FSANALYTICS\", \"FSANALYTICS\", \"FSA.Position\", \"PreviousEndOfDayPrice\", 254, 12, -460000000000000.0, -420000000000000.0, 0], [22036, \"FSANALYTICS\", \"FSANALYTICS\", \"FSA.Position\", \"PreviousEndOfDayPrice\", 254, 13, -420000000000000.0, -380000000000000.0, 0], [22037, \"FSANALYTICS\", \"FSANALYTICS\", \"FSA.Position\", \"PreviousEndOfDayPrice\", 254, 14, -380000000000000.0, -340000000000000.0, 0], [22038, \"FSANALYTICS\", \"FSANALYTICS\", \"FSA.Position\", \"PreviousEndOfDayPrice\", 254, 15, -340000000000000.0, -300000000000000.0, 0], [22039, \"FSANALYTICS\", \"FSANALYTICS\", \"FSA.Position\", \"PreviousEndOfDayPrice\", 254, 16, -300000000000000.0, -260000000000000.0, 0], [22040, \"FSANALYTICS\", \"FSANALYTICS\", \"FSA.Position\", \"PreviousEndOfDayPrice\", 254, 17, -260000000000000.0, -220000000000000.0, 0], [22041, \"FSANALYTICS\", \"FSANALYTICS\", \"FSA.Position\", \"PreviousEndOfDayPrice\", 254, 18, -220000000000000.0, -180000000000000.0, 0], [22042, \"FSANALYTICS\", \"FSANALYTICS\", \"FSA.Position\", \"PreviousEndOfDayPrice\", 254, 19, -180000000000000.0, -140000000000000.0, 0], [22043, \"FSANALYTICS\", \"FSANALYTICS\", \"FSA.Position\", \"PreviousEndOfDayPrice\", 254, 20, -140000000000000.0, -100000000000000.0, 0], [22044, \"FSANALYTICS\", \"FSANALYTICS\", \"FSA.Position\", \"PreviousEndOfDayPrice\", 254, 21, -100000000000000.0, -60000000000000.0, 0], [22045, \"FSANALYTICS\", \"FSANALYTICS\", \"FSA.Position\", \"PreviousEndOfDayPrice\", 254, 22, -60000000000000.0, -20000000000000.0, 0], [22046, \"FSANALYTICS\", \"FSANALYTICS\", \"FSA.Position\", \"PreviousEndOfDayPrice\", 254, 23, -20000000000000.0, 20000000000000.0, 33358267], [22047, \"FSANALYTICS\", \"FSANALYTICS\", \"FSA.Position\", \"Quantity\", 254, 1, -6000000000.0, -5000000000.0, 154], [22048, \"FSANALYTICS\", \"FSANALYTICS\", \"FSA.Position\", \"Quantity\", 254, 2, -5000000000.0, -4000000000.0, 211], [22049, \"FSANALYTICS\", \"FSANALYTICS\", \"FSA.Position\", \"Quantity\", 254, 3, -4000000000.0, -3000000000.0, 1128], [22050, \"FSANALYTICS\", \"FSANALYTICS\", \"FSA.Position\", \"Quantity\", 254, 4, -3000000000.0, -2000000000.0, 2170], [22051, \"FSANALYTICS\", \"FSANALYTICS\", \"FSA.Position\", \"Quantity\", 254, 5, -2000000000.0, -1000000000.0, 7295], [22052, \"FSANALYTICS\", \"FSANALYTICS\", \"FSA.Position\", \"Quantity\", 254, 6, -1000000000.0, 0.0, 6847924], [22053, \"FSANALYTICS\", \"FSANALYTICS\", \"FSA.Position\", \"Quantity\", 254, 7, 0.0, 1000000000.0, 26480611], [22054, \"FSANALYTICS\", \"FSANALYTICS\", \"FSA.Position\", \"Quantity\", 254, 8, 1000000000.0, 2000000000.0, 12639], [22055, \"FSANALYTICS\", \"FSANALYTICS\", \"FSA.Position\", \"Quantity\", 254, 9, 2000000000.0, 3000000000.0, 2792], [22056, \"FSANALYTICS\", \"FSANALYTICS\", \"FSA.Position\", \"Quantity\", 254, 10, 3000000000.0, 4000000000.0, 1548], [22057, \"FSANALYTICS\", \"FSANALYTICS\", \"FSA.Position\", \"Quantity\", 254, 11, 4000000000.0, 5000000000.0, 1917], [22058, \"FSANALYTICS\", \"FSANALYTICS\", \"FSA.Position\", \"Quantity\", 254, 12, 5000000000.0, 6000000000.0, 725], [22059, \"FSANALYTICS\", \"FSANALYTICS\", \"FSA.Position\", \"Quantity\", 254, 13, 6000000000.0, 7000000000.0, 315], [22060, \"FSANALYTICS\", \"FSANALYTICS\", \"FSA.Position\", \"Quantity\", 254, 14, 7000000000.0, 8000000000.0, 168], [22061, \"FSANALYTICS\", \"FSANALYTICS\", \"FSA.Position\", \"StartOfDayPosition\", 254, 1, -6000000000.0, -5000000000.0, 223], [22062, \"FSANALYTICS\", \"FSANALYTICS\", \"FSA.Position\", \"StartOfDayPosition\", 254, 2, -5000000000.0, -4000000000.0, 211], [22063, \"FSANALYTICS\", \"FSANALYTICS\", \"FSA.Position\", \"StartOfDayPosition\", 254, 3, -4000000000.0, -3000000000.0, 2324], [22064, \"FSANALYTICS\", \"FSANALYTICS\", \"FSA.Position\", \"StartOfDayPosition\", 254, 4, -3000000000.0, -2000000000.0, 3198], [22065, \"FSANALYTICS\", \"FSANALYTICS\", \"FSA.Position\", \"StartOfDayPosition\", 254, 5, -2000000000.0, -1000000000.0, 9663], [22066, \"FSANALYTICS\", \"FSANALYTICS\", \"FSA.Position\", \"StartOfDayPosition\", 254, 6, -1000000000.0, 0.0, 6900344], [22067, \"FSANALYTICS\", \"FSANALYTICS\", \"FSA.Position\", \"StartOfDayPosition\", 254, 7, 0.0, 1000000000.0, 26417578], [22068, \"FSANALYTICS\", \"FSANALYTICS\", \"FSA.Position\", \"StartOfDayPosition\", 254, 8, 1000000000.0, 2000000000.0, 14009], [22069, \"FSANALYTICS\", \"FSANALYTICS\", \"FSA.Position\", \"StartOfDayPosition\", 254, 9, 2000000000.0, 3000000000.0, 3318], [22070, \"FSANALYTICS\", \"FSANALYTICS\", \"FSA.Position\", \"StartOfDayPosition\", 254, 10, 3000000000.0, 4000000000.0, 1816], [22071, \"FSANALYTICS\", \"FSANALYTICS\", \"FSA.Position\", \"StartOfDayPosition\", 254, 11, 4000000000.0, 5000000000.0, 3466], [22072, \"FSANALYTICS\", \"FSANALYTICS\", \"FSA.Position\", \"StartOfDayPosition\", 254, 12, 5000000000.0, 6000000000.0, 1241], [22073, \"FSANALYTICS\", \"FSANALYTICS\", \"FSA.Position\", \"StartOfDayPosition\", 254, 13, 6000000000.0, 7000000000.0, 573], [22074, \"FSANALYTICS\", \"FSANALYTICS\", \"FSA.Position\", \"StartOfDayPosition\", 254, 14, 7000000000.0, 8000000000.0, 427], [22075, \"FSANALYTICS\", \"FSANALYTICS\", \"FSA.Position\", \"StartOfDayPrice\", 254, 1, -900000000000000.0, -860000000000000.0, 1], [22076, \"FSANALYTICS\", \"FSANALYTICS\", \"FSA.Position\", \"StartOfDayPrice\", 254, 2, -860000000000000.0, -820000000000000.0, 2], [22077, \"FSANALYTICS\", \"FSANALYTICS\", \"FSA.Position\", \"StartOfDayPrice\", 254, 3, -820000000000000.0, -780000000000000.0, 8], [22078, \"FSANALYTICS\", \"FSANALYTICS\", \"FSA.Position\", \"StartOfDayPrice\", 254, 4, -780000000000000.0, -740000000000000.0, 11], [22079, \"FSANALYTICS\", \"FSANALYTICS\", \"FSA.Position\", \"StartOfDayPrice\", 254, 5, -740000000000000.0, -700000000000000.0, 25], [22080, \"FSANALYTICS\", \"FSANALYTICS\", \"FSA.Position\", \"StartOfDayPrice\", 254, 6, -700000000000000.0, -660000000000000.0, 45], [22081, \"FSANALYTICS\", \"FSANALYTICS\", \"FSA.Position\", \"StartOfDayPrice\", 254, 7, -660000000000000.0, -620000000000000.0, 3], [22082, \"FSANALYTICS\", \"FSANALYTICS\", \"FSA.Position\", \"StartOfDayPrice\", 254, 8, -620000000000000.0, -580000000000000.0, 26], [22083, \"FSANALYTICS\", \"FSANALYTICS\", \"FSA.Position\", \"StartOfDayPrice\", 254, 9, -580000000000000.0, -540000000000000.0, 3], [22084, \"FSANALYTICS\", \"FSANALYTICS\", \"FSA.Position\", \"StartOfDayPrice\", 254, 10, -540000000000000.0, -500000000000000.0, 0], [22085, \"FSANALYTICS\", \"FSANALYTICS\", \"FSA.Position\", \"StartOfDayPrice\", 254, 11, -500000000000000.0, -460000000000000.0, 0], [22086, \"FSANALYTICS\", \"FSANALYTICS\", \"FSA.Position\", \"StartOfDayPrice\", 254, 12, -460000000000000.0, -420000000000000.0, 0], [22087, \"FSANALYTICS\", \"FSANALYTICS\", \"FSA.Position\", \"StartOfDayPrice\", 254, 13, -420000000000000.0, -380000000000000.0, 0], [22088, \"FSANALYTICS\", \"FSANALYTICS\", \"FSA.Position\", \"StartOfDayPrice\", 254, 14, -380000000000000.0, -340000000000000.0, 0], [22089, \"FSANALYTICS\", \"FSANALYTICS\", \"FSA.Position\", \"StartOfDayPrice\", 254, 15, -340000000000000.0, -300000000000000.0, 0], [22090, \"FSANALYTICS\", \"FSANALYTICS\", \"FSA.Position\", \"StartOfDayPrice\", 254, 16, -300000000000000.0, -260000000000000.0, 0], [22091, \"FSANALYTICS\", \"FSANALYTICS\", \"FSA.Position\", \"StartOfDayPrice\", 254, 17, -260000000000000.0, -220000000000000.0, 0], [22092, \"FSANALYTICS\", \"FSANALYTICS\", \"FSA.Position\", \"StartOfDayPrice\", 254, 18, -220000000000000.0, -180000000000000.0, 0], [22093, \"FSANALYTICS\", \"FSANALYTICS\", \"FSA.Position\", \"StartOfDayPrice\", 254, 19, -180000000000000.0, -140000000000000.0, 0], [22094, \"FSANALYTICS\", \"FSANALYTICS\", \"FSA.Position\", \"StartOfDayPrice\", 254, 20, -140000000000000.0, -100000000000000.0, 0], [22095, \"FSANALYTICS\", \"FSANALYTICS\", \"FSA.Position\", \"StartOfDayPrice\", 254, 21, -100000000000000.0, -60000000000000.0, 0], [22096, \"FSANALYTICS\", \"FSANALYTICS\", \"FSA.Position\", \"StartOfDayPrice\", 254, 22, -60000000000000.0, -20000000000000.0, 0], [22097, \"FSANALYTICS\", \"FSANALYTICS\", \"FSA.Position\", \"StartOfDayPrice\", 254, 23, -20000000000000.0, 20000000000000.0, 33358267], [22098, \"FSANALYTICS\", \"FSANALYTICS\", \"FSA.Position\", \"TradeSettleAmount\", 254, 1, -1.7e+17, -1.3e+17, 633], [22099, \"FSANALYTICS\", \"FSANALYTICS\", \"FSA.Position\", \"TradeSettleAmount\", 254, 2, -1.3e+17, -9e+16, 0], [22100, \"FSANALYTICS\", \"FSANALYTICS\", \"FSA.Position\", \"TradeSettleAmount\", 254, 3, -9e+16, -5e+16, 0], [22101, \"FSANALYTICS\", \"FSANALYTICS\", \"FSA.Position\", \"TradeSettleAmount\", 254, 4, -5e+16, -1e+16, 0], [22102, \"FSANALYTICS\", \"FSANALYTICS\", \"FSA.Position\", \"TradeSettleAmount\", 254, 5, -1e+16, 3e+16, 33357241], [22103, \"FSANALYTICS\", \"FSANALYTICS\", \"FSA.Position\", \"TradeSettleAmount\", 254, 6, 3e+16, 7e+16, 0], [22104, \"FSANALYTICS\", \"FSANALYTICS\", \"FSA.Position\", \"TradeSettleAmount\", 254, 7, 7e+16, 1.1e+17, 0], [22105, \"FSANALYTICS\", \"FSANALYTICS\", \"FSA.Position\", \"TradeSettleAmount\", 254, 8, 1.1e+17, 1.5e+17, 586], [22106, \"FSANALYTICS\", \"FSANALYTICS\", \"FSA.Position\", \"TradeSettleAmount\", 254, 9, 1.5e+17, 1.9e+17, 0], [22107, \"FSANALYTICS\", \"FSANALYTICS\", \"FSA.Position\", \"TradeSettleAmount\", 254, 10, 1.9e+17, 2.3e+17, 0], [22108, \"FSANALYTICS\", \"FSANALYTICS\", \"FSA.Position\", \"TradeSettleAmount\", 254, 11, 2.3e+17, 2.7e+17, 0], [22109, \"FSANALYTICS\", \"FSANALYTICS\", \"FSA.Position\", \"TradeSettleAmount\", 254, 12, 2.7e+17, 3.1e+17, 0], [22110, \"FSANALYTICS\", \"FSANALYTICS\", \"FSA.Position\", \"TradeSettleAmount\", 254, 13, 3.1e+17, 3.5e+17, 0], [22111, \"FSANALYTICS\", \"FSANALYTICS\", \"FSA.Position\", \"TradeSettleAmount\", 254, 14, 3.5e+17, 3.9e+17, 0], [22112, \"FSANALYTICS\", \"FSANALYTICS\", \"FSA.Position\", \"TradeSettleAmount\", 254, 15, 3.9e+17, 4.3e+17, 574], [22113, \"FSANALYTICS\", \"FSANALYTICS\", \"FSA.Position\", \"TradeSettleAmount\", 254, 16, 4.3e+17, 4.7e+17, 0], [22114, \"FSANALYTICS\", \"FSANALYTICS\", \"FSA.Position\", \"TradeSettleAmount\", 254, 17, 4.7e+17, 5.1e+17, 0], [22115, \"FSANALYTICS\", \"FSANALYTICS\", \"FSA.Position\", \"TradeSettleAmount\", 254, 18, 5.1e+17, 5.5e+17, 0], [22116, \"FSANALYTICS\", \"FSANALYTICS\", \"FSA.Position\", \"TradeSettleAmount\", 254, 19, 5.5e+17, 5.9e+17, 563], [22117, \"FSANALYTICS\", \"FSANALYTICS\", \"FSA.SecurityMaster\", \"Coupon\", 254, 1, 0.0, 1.0, 271], [22118, \"FSANALYTICS\", \"FSANALYTICS\", \"FSA.SecurityMaster\", \"Coupon\", 254, 2, 1.0, 2.0, 280], [22119, \"FSANALYTICS\", \"FSANALYTICS\", \"FSA.SecurityMaster\", \"Coupon\", 254, 3, 2.0, 3.0, 224], [22120, \"FSANALYTICS\", \"FSANALYTICS\", \"FSA.SecurityMaster\", \"Coupon\", 254, 4, 3.0, 4.0, 136], [22121, \"FSANALYTICS\", \"FSANALYTICS\", \"FSA.SecurityMaster\", \"Coupon\", 254, 5, 4.0, 5.0, 156], [22122, \"FSANALYTICS\", \"FSANALYTICS\", \"FSA.SecurityMaster\", \"Coupon\", 254, 6, 5.0, 6.0, 137], [22123, \"FSANALYTICS\", \"FSANALYTICS\", \"FSA.SecurityMaster\", \"Coupon\", 254, 7, 6.0, 7.0, 118], [22124, \"FSANALYTICS\", \"FSANALYTICS\", \"FSA.SecurityMaster\", \"Coupon\", 254, 8, 7.0, 8.0, 112], [22125, \"FSANALYTICS\", \"FSANALYTICS\", \"FSA.SecurityMaster\", \"Coupon\", 254, 9, 8.0, 9.0, 91], [22126, \"FSANALYTICS\", \"FSANALYTICS\", \"FSA.SecurityMaster\", \"Coupon\", 254, 10, 9.0, 10.0, 53], [22127, \"FSANALYTICS\", \"FSANALYTICS\", \"FSA.SecurityMaster\", \"Coupon\", 254, 11, 10.0, 11.0, 37], [22128, \"FSANALYTICS\", \"FSANALYTICS\", \"FSA.SecurityMaster\", \"Coupon\", 254, 12, 11.0, 12.0, 41], [22129, \"FSANALYTICS\", \"FSANALYTICS\", \"FSA.SecurityMaster\", \"Coupon\", 254, 13, 12.0, 13.0, 22], [22130, \"FSANALYTICS\", \"FSANALYTICS\", \"FSA.SecurityMaster\", \"Coupon\", 254, 14, 13.0, 14.0, 24], [22131, \"FSANALYTICS\", \"FSANALYTICS\", \"FSA.SecurityMaster\", \"Coupon\", 254, 15, 14.0, 15.0, 27], [22132, \"FSANALYTICS\", \"FSANALYTICS\", \"FSA.SecurityMaster\", \"Coupon\", 254, 16, 15.0, 16.0, 11], [22133, \"FSANALYTICS\", \"FSANALYTICS\", \"FSA.SecurityMaster\", \"Coupon\", 254, 17, 16.0, 17.0, 2], [22134, \"FSANALYTICS\", \"FSANALYTICS\", \"FSA.SecurityMaster\", \"ID\", 254, 1, 0.0, 10000.0, 5735], [22135, \"FSANALYTICS\", \"FSANALYTICS\", \"FSA.SecurityMaster\", \"ID\", 254, 2, 10000.0, 20000.0, 10000], [22136, \"FSANALYTICS\", \"FSANALYTICS\", \"FSA.SecurityMaster\", \"ID\", 254, 3, 20000.0, 30000.0, 10000], [22137, \"FSANALYTICS\", \"FSANALYTICS\", \"FSA.SecurityMaster\", \"ID\", 254, 4, 30000.0, 40000.0, 10000], [22138, \"FSANALYTICS\", \"FSANALYTICS\", \"FSA.SecurityMaster\", \"ID\", 254, 5, 40000.0, 50000.0, 10000], [22139, \"FSANALYTICS\", \"FSANALYTICS\", \"FSA.SecurityMaster\", \"ID\", 254, 6, 50000.0, 60000.0, 10000], [22140, \"FSANALYTICS\", \"FSANALYTICS\", \"FSA.SecurityMaster\", \"ID\", 254, 7, 60000.0, 70000.0, 10000], [22141, \"FSANALYTICS\", \"FSANALYTICS\", \"FSA.SecurityMaster\", \"ID\", 254, 8, 70000.0, 80000.0, 10000], [22142, \"FSANALYTICS\", \"FSANALYTICS\", \"FSA.SecurityMaster\", \"ID\", 254, 9, 80000.0, 90000.0, 10000], [22143, \"FSANALYTICS\", \"FSANALYTICS\", \"FSA.SecurityMaster\", \"ID\", 254, 10, 90000.0, 100000.0, 10000], [22144, \"FSANALYTICS\", \"FSANALYTICS\", \"FSA.SecurityMaster\", \"ID\", 254, 11, 100000.0, 110000.0, 8660], [22145, \"FSANALYTICS\", \"FSANALYTICS\", \"FSA.SecurityMaster\", \"SettlementDays\", 254, 1, 0.0, 0.2, 0], [22146, \"FSANALYTICS\", \"FSANALYTICS\", \"FSA.SecurityMaster\", \"SettlementDays\", 254, 2, 0.2, 0.4, 0], [22147, \"FSANALYTICS\", \"FSANALYTICS\", \"FSA.SecurityMaster\", \"SettlementDays\", 254, 3, 0.4, 0.6, 0], [22148, \"FSANALYTICS\", \"FSANALYTICS\", \"FSA.SecurityMaster\", \"SettlementDays\", 254, 4, 0.6, 0.8, 0], [22149, \"FSANALYTICS\", \"FSANALYTICS\", \"FSA.SecurityMaster\", \"SettlementDays\", 254, 5, 0.8, 1.0, 0], [22150, \"FSANALYTICS\", \"FSANALYTICS\", \"FSA.SecurityMaster\", \"SettlementDays\", 254, 6, 1.0, 1.2, 0], [22151, \"FSANALYTICS\", \"FSANALYTICS\", \"FSA.SecurityMaster\", \"SettlementDays\", 254, 7, 1.2, 1.4, 0], [22152, \"FSANALYTICS\", \"FSANALYTICS\", \"FSA.SecurityMaster\", \"SettlementDays\", 254, 8, 1.4, 1.6, 0], [22153, \"FSANALYTICS\", \"FSANALYTICS\", \"FSA.SecurityMaster\", \"SettlementDays\", 254, 9, 1.6, 1.8, 0], [22154, \"FSANALYTICS\", \"FSANALYTICS\", \"FSA.SecurityMaster\", \"SettlementDays\", 254, 10, 1.8, 2.0, 102], [22155, \"FSANALYTICS\", \"FSANALYTICS\", \"FSA.Trade\", \"ID\", 254, 1, 0.0, 20000.0, 20000], [22156, \"FSANALYTICS\", \"FSANALYTICS\", \"FSA.Trade\", \"ID\", 254, 2, 20000.0, 40000.0, 12561], [22157, \"FSANALYTICS\", \"FSANALYTICS\", \"FSA.Trade\", \"ID\", 254, 3, 40000.0, 60000.0, 9739], [22158, \"FSANALYTICS\", \"FSANALYTICS\", \"FSA.Trade\", \"ID\", 254, 4, 60000.0, 80000.0, 12570], [22159, \"FSANALYTICS\", \"FSANALYTICS\", \"FSA.Trade\", \"ID\", 254, 5, 80000.0, 100000.0, 17690], [22160, \"FSANALYTICS\", \"FSANALYTICS\", \"FSA.Trade\", \"ID\", 254, 6, 100000.0, 120000.0, 18405], [22161, \"FSANALYTICS\", \"FSANALYTICS\", \"FSA.Trade\", \"ID\", 254, 7, 120000.0, 140000.0, 18463], [22162, \"FSANALYTICS\", \"FSANALYTICS\", \"FSA.Trade\", \"ID\", 254, 8, 140000.0, 160000.0, 18883], [22163, \"FSANALYTICS\", \"FSANALYTICS\", \"FSA.Trade\", \"ID\", 254, 9, 160000.0, 180000.0, 19234], [22164, \"FSANALYTICS\", \"FSANALYTICS\", \"FSA.Trade\", \"ID\", 254, 10, 180000.0, 200000.0, 19256], [22165, \"FSANALYTICS\", \"FSANALYTICS\", \"FSA.Trade\", \"ID\", 254, 11, 200000.0, 220000.0, 19831], [22166, \"FSANALYTICS\", \"FSANALYTICS\", \"FSA.Trade\", \"ID\", 254, 12, 220000.0, 240000.0, 1785], [22167, \"FSANALYTICS\", \"FSANALYTICS\", \"FSA.Trade\", \"Price\", 254, 1, 0.0, 20000.0, 182204], [22168, \"FSANALYTICS\", \"FSANALYTICS\", \"FSA.Trade\", \"Price\", 254, 2, 20000.0, 40000.0, 5500], [22169, \"FSANALYTICS\", \"FSANALYTICS\", \"FSA.Trade\", \"Price\", 254, 3, 40000.0, 60000.0, 532], [22170, \"FSANALYTICS\", \"FSANALYTICS\", \"FSA.Trade\", \"Price\", 254, 4, 60000.0, 80000.0, 0], [22171, \"FSANALYTICS\", \"FSANALYTICS\", \"FSA.Trade\", \"Price\", 254, 5, 80000.0, 100000.0, 0], [22172, \"FSANALYTICS\", \"FSANALYTICS\", \"FSA.Trade\", \"Price\", 254, 6, 100000.0, 120000.0, 152], [22173, \"FSANALYTICS\", \"FSANALYTICS\", \"FSA.Trade\", \"Price\", 254, 7, 120000.0, 140000.0, 0], [22174, \"FSANALYTICS\", \"FSANALYTICS\", \"FSA.Trade\", \"Price\", 254, 8, 140000.0, 160000.0, 0], [22175, \"FSANALYTICS\", \"FSANALYTICS\", \"FSA.Trade\", \"Price\", 254, 9, 160000.0, 180000.0, 0], [22176, \"FSANALYTICS\", \"FSANALYTICS\", \"FSA.Trade\", \"Price\", 254, 10, 180000.0, 200000.0, 0], [22177, \"FSANALYTICS\", \"FSANALYTICS\", \"FSA.Trade\", \"Price\", 254, 11, 200000.0, 220000.0, 0], [22178, \"FSANALYTICS\", \"FSANALYTICS\", \"FSA.Trade\", \"Price\", 254, 12, 220000.0, 240000.0, 0], [22179, \"FSANALYTICS\", \"FSANALYTICS\", \"FSA.Trade\", \"Price\", 254, 13, 240000.0, 260000.0, 0], [22180, \"FSANALYTICS\", \"FSANALYTICS\", \"FSA.Trade\", \"Price\", 254, 14, 260000.0, 280000.0, 1], [22181, \"FSANALYTICS\", \"FSANALYTICS\", \"FSA.Trade\", \"Price\", 254, 15, 280000.0, 300000.0, 0], [22182, \"FSANALYTICS\", \"FSANALYTICS\", \"FSA.Trade\", \"Price\", 254, 16, 300000.0, 320000.0, 4], [22183, \"FSANALYTICS\", \"FSANALYTICS\", \"FSA.Trade\", \"Price\", 254, 17, 320000.0, 340000.0, 1], [22184, \"FSANALYTICS\", \"FSANALYTICS\", \"FSA.Trade\", \"Quantity\", 254, 1, 0.0, 1000000.0, 146812], [22185, \"FSANALYTICS\", \"FSANALYTICS\", \"FSA.Trade\", \"Quantity\", 254, 2, 1000000.0, 2000000.0, 2935], [22186, \"FSANALYTICS\", \"FSANALYTICS\", \"FSA.Trade\", \"Quantity\", 254, 3, 2000000.0, 3000000.0, 3000], [22187, \"FSANALYTICS\", \"FSANALYTICS\", \"FSA.Trade\", \"Quantity\", 254, 4, 3000000.0, 4000000.0, 2909], [22188, \"FSANALYTICS\", \"FSANALYTICS\", \"FSA.Trade\", \"Quantity\", 254, 5, 4000000.0, 5000000.0, 2996], [22189, \"FSANALYTICS\", \"FSANALYTICS\", \"FSA.Trade\", \"Quantity\", 254, 6, 5000000.0, 6000000.0, 3008], [22190, \"FSANALYTICS\", \"FSANALYTICS\", \"FSA.Trade\", \"Quantity\", 254, 7, 6000000.0, 7000000.0, 2932], [22191, \"FSANALYTICS\", \"FSANALYTICS\", \"FSA.Trade\", \"Quantity\", 254, 8, 7000000.0, 8000000.0, 2902], [22192, \"FSANALYTICS\", \"FSANALYTICS\", \"FSA.Trade\", \"Quantity\", 254, 9, 8000000.0, 9000000.0, 2986], [22193, \"FSANALYTICS\", \"FSANALYTICS\", \"FSA.Trade\", \"Quantity\", 254, 10, 9000000.0, 10000000.0, 2933], [22194, \"FSANALYTICS\", \"FSANALYTICS\", \"FSA.Trade\", \"Quantity\", 254, 11, 10000000.0, 11000000.0, 3050], [22195, \"FSANALYTICS\", \"FSANALYTICS\", \"FSA.Trade\", \"Quantity\", 254, 12, 11000000.0, 12000000.0, 3042], [22196, \"FSANALYTICS\", \"FSANALYTICS\", \"FSA.Trade\", \"Quantity\", 254, 13, 12000000.0, 13000000.0, 2882], [22197, \"FSANALYTICS\", \"FSANALYTICS\", \"FSA.Trade\", \"Quantity\", 254, 14, 13000000.0, 14000000.0, 3083], [22198, \"FSANALYTICS\", \"FSANALYTICS\", \"FSA.Trade\", \"Quantity\", 254, 15, 14000000.0, 15000000.0, 2947], [22199, \"FSANALYTICS\", \"FSANALYTICS\", \"FSA.Trade\", \"SettlementAmount\", 254, 1, -1600000000.0, -1400000000.0, 931], [22200, \"FSANALYTICS\", \"FSANALYTICS\", \"FSA.Trade\", \"SettlementAmount\", 254, 2, -1400000000.0, -1200000000.0, 1203], [22201, \"FSANALYTICS\", \"FSANALYTICS\", \"FSA.Trade\", \"SettlementAmount\", 254, 3, -1200000000.0, -1000000000.0, 1232], [22202, \"FSANALYTICS\", \"FSANALYTICS\", \"FSA.Trade\", \"SettlementAmount\", 254, 4, -1000000000.0, -800000000.0, 1233], [22203, \"FSANALYTICS\", \"FSANALYTICS\", \"FSA.Trade\", \"SettlementAmount\", 254, 5, -800000000.0, -600000000.0, 1200], [22204, \"FSANALYTICS\", \"FSANALYTICS\", \"FSA.Trade\", \"SettlementAmount\", 254, 6, -600000000.0, -400000000.0, 1231], [22205, \"FSANALYTICS\", \"FSANALYTICS\", \"FSA.Trade\", \"SettlementAmount\", 254, 7, -400000000.0, -200000000.0, 1269], [22206, \"FSANALYTICS\", \"FSANALYTICS\", \"FSA.Trade\", \"SettlementAmount\", 254, 8, -200000000.0, 0.0, 85451], [22207, \"FSANALYTICS\", \"FSANALYTICS\", \"FSA.Trade\", \"SettlementAmount\", 254, 9, 0.0, 200000000.0, 86062], [22208, \"FSANALYTICS\", \"FSANALYTICS\", \"FSA.Trade\", \"SettlementAmount\", 254, 10, 200000000.0, 400000000.0, 1296], [22209, \"FSANALYTICS\", \"FSANALYTICS\", \"FSA.Trade\", \"SettlementAmount\", 254, 11, 400000000.0, 600000000.0, 1298], [22210, \"FSANALYTICS\", \"FSANALYTICS\", \"FSA.Trade\", \"SettlementAmount\", 254, 12, 600000000.0, 800000000.0, 1236], [22211, \"FSANALYTICS\", \"FSANALYTICS\", \"FSA.Trade\", \"SettlementAmount\", 254, 13, 800000000.0, 1000000000.0, 1267], [22212, \"FSANALYTICS\", \"FSANALYTICS\", \"FSA.Trade\", \"SettlementAmount\", 254, 14, 1000000000.0, 1200000000.0, 1296], [22213, \"FSANALYTICS\", \"FSANALYTICS\", \"FSA.Trade\", \"SettlementAmount\", 254, 15, 1200000000.0, 1400000000.0, 1284], [22214, \"FSANALYTICS\", \"FSANALYTICS\", \"FSA.Trade\", \"SettlementAmount\", 254, 16, 1400000000.0, 1600000000.0, 928]];\n",
       "\n",
       "    // Define the dt_args\n",
       "    let dt_args = {\"scrollY\": \"400px\", \"scrollCollapse\": true, \"paging\": false, \"scrollX\": true, \"order\": [], \"initComplete\": function () {\n",
       "    // Apply the search\n",
       "    this.api()\n",
       "        .columns()\n",
       "        .every(function () {\n",
       "            const that = this;\n",
       "\n",
       "            $('input', this.footer()).on('keyup change clear', function () {\n",
       "                if (that.search() !== this.value) {\n",
       "                    that.search(this.value).draw();\n",
       "                }\n",
       "            });\n",
       "        });\n",
       "}\n",
       "};\n",
       "    dt_args[\"data\"] = data;\n",
       "\n",
       "    $(document).ready(function () {\n",
       "        // Setup - add a text input to each header or footer cell\n",
       "$('#93fd4449-f256-48c8-90b0-c10933650a30 tfoot th').each(function () {\n",
       "    let title = $(this).text();\n",
       "    $(this).html('<input type=\"text\" placeholder=\"Search ' +\n",
       "        // We use encodeURI to avoid this LGTM error:\n",
       "        // https://lgtm.com/rules/1511866576920/\n",
       "        encodeURI(title).replaceAll(\"%20\", \" \") +\n",
       "        '\" />');\n",
       "});\n",
       "\n",
       "        $('#93fd4449-f256-48c8-90b0-c10933650a30').DataTable(dt_args);\n",
       "    });\n",
       "</script>\n",
       "</div>\n"
      ],
      "text/plain": [
       "<IPython.core.display.HTML object>"
      ]
     },
     "metadata": {},
     "output_type": "display_data"
    },
    {
     "data": {
      "text/html": [
       "</br></br>"
      ],
      "text/plain": [
       "<IPython.core.display.HTML object>"
      ]
     },
     "metadata": {},
     "output_type": "display_data"
    },
    {
     "data": {
      "text/html": [
       "<h2>Column Top Unique Counts</h2>"
      ],
      "text/plain": [
       "<IPython.core.display.HTML object>"
      ]
     },
     "metadata": {},
     "output_type": "display_data"
    },
    {
     "data": {
      "text/html": [
       "<style>.itables table td {\n",
       "    text-overflow: ellipsis;\n",
       "    overflow: hidden;\n",
       "}\n",
       "\n",
       ".itables table th {\n",
       "    text-overflow: ellipsis;\n",
       "    overflow: hidden;\n",
       "}\n",
       "\n",
       ".itables thead input {\n",
       "    width: 100%;\n",
       "    padding: 3px;\n",
       "    box-sizing: border-box;\n",
       "}\n",
       "\n",
       ".itables tfoot input {\n",
       "    width: 100%;\n",
       "    padding: 3px;\n",
       "    box-sizing: border-box;\n",
       "}\n",
       "</style>\n",
       "<div class=\"itables\">\n",
       "<table id=\"b9d32891-71fe-4f62-a5b1-b7f986ea8f7b\" class=\"display nowrap\"style=\"table-layout:auto\"><thead>\n",
       "    <tr style=\"text-align: right;\">\n",
       "      \n",
       "      <th>id</th>\n",
       "      <th>db_instance</th>\n",
       "      <th>db_name</th>\n",
       "      <th>table_name</th>\n",
       "      <th>field_name</th>\n",
       "      <th>job_id</th>\n",
       "      <th>rank</th>\n",
       "      <th>value</th>\n",
       "      <th>count</th>\n",
       "    </tr>\n",
       "  </thead><tbody><tr><td>Loading... (need <a href=https://mwouts.github.io/itables/troubleshooting.html>help</a>?)</td></tr></tbody><tfoot><th>id</th><th>db_instance</th><th>db_name</th><th>table_name</th><th>field_name</th><th>job_id</th><th>rank</th><th>value</th><th>count</th></tfoot></table>\n",
       "<link rel=\"stylesheet\" type=\"text/css\" href=\"https://cdn.datatables.net/1.13.1/css/jquery.dataTables.min.css\">\n",
       "<script type=\"module\">\n",
       "    // Import jquery and DataTable\n",
       "    import 'https://code.jquery.com/jquery-3.6.0.min.js';\n",
       "    import dt from 'https://cdn.datatables.net/1.12.1/js/jquery.dataTables.mjs';\n",
       "    dt($);\n",
       "\n",
       "    // Define the table data\n",
       "    const data = [[6245, \"FSANALYTICS\", \"FSANALYTICS\", \"FSA.Position\", \"TradingBook\", 254, 1, \"EQUITYTRADING1\", 16418450], [6246, \"FSANALYTICS\", \"FSANALYTICS\", \"FSA.Position\", \"TradingBook\", 254, 2, \"EQUITYTRADING2\", 16314732], [6247, \"FSANALYTICS\", \"FSANALYTICS\", \"FSA.Position\", \"TradingBook\", 254, 3, \"BOND\", 279087], [6248, \"FSANALYTICS\", \"FSANALYTICS\", \"FSA.Position\", \"TradingBook\", 254, 4, \"NOTE\", 279061], [6249, \"FSANALYTICS\", \"FSANALYTICS\", \"FSA.Position\", \"TradingBook\", 254, 5, \"NONINVGRADE\", 34344], [6250, \"FSANALYTICS\", \"FSANALYTICS\", \"FSA.Position\", \"TradingBook\", 254, 6, \"HIGHINVGRADE\", 20596], [6251, \"FSANALYTICS\", \"FSANALYTICS\", \"FSA.Position\", \"TradingBook\", 254, 7, \"INVGRADE\", 13327], [6252, \"FSANALYTICS\", \"FSANALYTICS\", \"FSA.SecurityMaster\", \"createUser\", 254, 1, \"UnknownUser\", 100217], [6253, \"FSANALYTICS\", \"FSANALYTICS\", \"FSA.SecurityMaster\", \"createUser\", 254, 2, \"SuperUser\", 4178], [6254, \"FSANALYTICS\", \"FSANALYTICS\", \"FSA.SecurityMaster\", \"FitchRating\", 254, 1, \"N.R\", 27], [6255, \"FSANALYTICS\", \"FSANALYTICS\", \"FSA.SecurityMaster\", \"FitchRating\", 254, 2, \"A\", 25], [6256, \"FSANALYTICS\", \"FSANALYTICS\", \"FSA.SecurityMaster\", \"FitchRating\", 254, 3, \"BBB-\", 13], [6257, \"FSANALYTICS\", \"FSANALYTICS\", \"FSA.SecurityMaster\", \"FitchRating\", 254, 4, \"A-\", 7], [6258, \"FSANALYTICS\", \"FSANALYTICS\", \"FSA.SecurityMaster\", \"FitchRating\", 254, 5, \"BB-\", 6], [6259, \"FSANALYTICS\", \"FSANALYTICS\", \"FSA.SecurityMaster\", \"FitchRating\", 254, 6, \"BBB+\", 4], [6260, \"FSANALYTICS\", \"FSANALYTICS\", \"FSA.SecurityMaster\", \"FitchRating\", 254, 7, \"A+\", 4], [6261, \"FSANALYTICS\", \"FSANALYTICS\", \"FSA.SecurityMaster\", \"FitchRating\", 254, 8, \"BB+\", 4], [6262, \"FSANALYTICS\", \"FSANALYTICS\", \"FSA.SecurityMaster\", \"FitchRating\", 254, 9, \"BBB\", 4], [6263, \"FSANALYTICS\", \"FSANALYTICS\", \"FSA.SecurityMaster\", \"FitchRating\", 254, 10, \"B+\", 3], [6264, \"FSANALYTICS\", \"FSANALYTICS\", \"FSA.SecurityMaster\", \"FitchRating\", 254, 11, \"W.R\", 2], [6265, \"FSANALYTICS\", \"FSANALYTICS\", \"FSA.SecurityMaster\", \"FitchRating\", 254, 12, \"AAA\", 1], [6266, \"FSANALYTICS\", \"FSANALYTICS\", \"FSA.SecurityMaster\", \"FitchRating\", 254, 13, \"AA-\", 1], [6267, \"FSANALYTICS\", \"FSANALYTICS\", \"FSA.SecurityMaster\", \"FitchRating\", 254, 14, \"B-\", 1], [6268, \"FSANALYTICS\", \"FSANALYTICS\", \"FSA.SecurityMaster\", \"ProductSubType\", 254, 1, \"Industrials\", 13273], [6269, \"FSANALYTICS\", \"FSANALYTICS\", \"FSA.SecurityMaster\", \"ProductSubType\", 254, 2, \"Basic Materials\", 11955], [6270, \"FSANALYTICS\", \"FSANALYTICS\", \"FSA.SecurityMaster\", \"ProductSubType\", 254, 3, \"Financial Services\", 10406], [6271, \"FSANALYTICS\", \"FSANALYTICS\", \"FSA.SecurityMaster\", \"ProductSubType\", 254, 4, \"Healthcare\", 9904], [6272, \"FSANALYTICS\", \"FSANALYTICS\", \"FSA.SecurityMaster\", \"ProductSubType\", 254, 5, \"Technology\", 10097], [6273, \"FSANALYTICS\", \"FSANALYTICS\", \"FSA.SecurityMaster\", \"ProductSubType\", 254, 6, \"Consumer Cyclical\", 9887], [6274, \"FSANALYTICS\", \"FSANALYTICS\", \"FSA.SecurityMaster\", \"ProductSubType\", 254, 7, \"Consumer Defensive\", 4935], [6275, \"FSANALYTICS\", \"FSANALYTICS\", \"FSA.SecurityMaster\", \"ProductSubType\", 254, 8, \"Real Estate\", 4519], [6276, \"FSANALYTICS\", \"FSANALYTICS\", \"FSA.SecurityMaster\", \"ProductSubType\", 254, 9, \"Communication Services\", 4511], [6277, \"FSANALYTICS\", \"FSANALYTICS\", \"FSA.SecurityMaster\", \"ProductSubType\", 254, 10, \"Treasury\", 4076], [6278, \"FSANALYTICS\", \"FSANALYTICS\", \"FSA.SecurityMaster\", \"ProductSubType\", 254, 11, \"Energy\", 4047], [6279, \"FSANALYTICS\", \"FSANALYTICS\", \"FSA.SecurityMaster\", \"ProductSubType\", 254, 12, \"Utilities\", 2242], [6280, \"FSANALYTICS\", \"FSANALYTICS\", \"FSA.SecurityMaster\", \"ProductSubType\", 254, 13, \"Financial\", 131], [6281, \"FSANALYTICS\", \"FSANALYTICS\", \"FSA.SecurityMaster\", \"ProductSubType\", 254, 14, \"Services\", 86], [6282, \"FSANALYTICS\", \"FSANALYTICS\", \"FSA.SecurityMaster\", \"ProductSubType\", 254, 15, \"NONINVGRADE\", 54], [6283, \"FSANALYTICS\", \"FSANALYTICS\", \"FSA.SecurityMaster\", \"ProductSubType\", 254, 16, \"Consumer Goods\", 50], [6284, \"FSANALYTICS\", \"FSANALYTICS\", \"FSA.SecurityMaster\", \"ProductSubType\", 254, 17, \"Industrial Goods\", 50], [6285, \"FSANALYTICS\", \"FSANALYTICS\", \"FSA.SecurityMaster\", \"ProductSubType\", 254, 18, \"HIGHINVGRADE\", 29], [6286, \"FSANALYTICS\", \"FSANALYTICS\", \"FSA.SecurityMaster\", \"ProductSubType\", 254, 19, \"INVGRADE\", 19], [6287, \"FSANALYTICS\", \"FSANALYTICS\", \"FSA.SecurityMaster\", \"ProductSubType\", 254, 20, \"Conglomerates\", 3], [6288, \"FSANALYTICS\", \"FSANALYTICS\", \"FSA.SecurityMaster\", \"ProductSubType\", 254, 21, \"INDEX\", 4], [6289, \"FSANALYTICS\", \"FSANALYTICS\", \"FSA.SecurityMaster\", \"ProductType\", 254, 1, \"Equity\", 100217], [6290, \"FSANALYTICS\", \"FSANALYTICS\", \"FSA.SecurityMaster\", \"ProductType\", 254, 2, \"Sovereign\", 4076], [6291, \"FSANALYTICS\", \"FSANALYTICS\", \"FSA.SecurityMaster\", \"ProductType\", 254, 3, \"Corporate\", 102], [6292, \"FSANALYTICS\", \"FSANALYTICS\", \"FSA.SecurityMaster\", \"Sector\", 254, 1, \"Financials\", 56], [6293, \"FSANALYTICS\", \"FSANALYTICS\", \"FSA.SecurityMaster\", \"Sector\", 254, 2, \"Industrials\", 11], [6294, \"FSANALYTICS\", \"FSANALYTICS\", \"FSA.SecurityMaster\", \"Sector\", 254, 3, \"Information Technology\", 8], [6295, \"FSANALYTICS\", \"FSANALYTICS\", \"FSA.SecurityMaster\", \"Sector\", 254, 4, \"Consumer Discretionary\", 7], [6296, \"FSANALYTICS\", \"FSANALYTICS\", \"FSA.SecurityMaster\", \"Sector\", 254, 5, \"Materials\", 6], [6297, \"FSANALYTICS\", \"FSANALYTICS\", \"FSA.SecurityMaster\", \"Sector\", 254, 6, \"Telecommunication Services\", 4], [6298, \"FSANALYTICS\", \"FSANALYTICS\", \"FSA.SecurityMaster\", \"Sector\", 254, 7, \"Utilities\", 4], [6299, \"FSANALYTICS\", \"FSANALYTICS\", \"FSA.SecurityMaster\", \"Sector\", 254, 8, \"Energy\", 4], [6300, \"FSANALYTICS\", \"FSANALYTICS\", \"FSA.SecurityMaster\", \"Sector\", 254, 9, \"Consumer Staples\", 1], [6301, \"FSANALYTICS\", \"FSANALYTICS\", \"FSA.SecurityMaster\", \"Sector\", 254, 10, \"Health Care\", 1], [6302, \"FSANALYTICS\", \"FSANALYTICS\", \"FSA.SecurityMaster\", \"SecurityType\", 254, 1, \"Equity\", 100217], [6303, \"FSANALYTICS\", \"FSANALYTICS\", \"FSA.SecurityMaster\", \"SecurityType\", 254, 2, \"Bill\", 2407], [6304, \"FSANALYTICS\", \"FSANALYTICS\", \"FSA.SecurityMaster\", \"SecurityType\", 254, 3, \"Note\", 1536], [6305, \"FSANALYTICS\", \"FSANALYTICS\", \"FSA.SecurityMaster\", \"SecurityType\", 254, 4, \"Bond\", 235], [6306, \"FSANALYTICS\", \"FSANALYTICS\", \"FSA.SecurityMaster\", \"SnPRating\", 254, 1, \"\", 4076], [6307, \"FSANALYTICS\", \"FSANALYTICS\", \"FSA.SecurityMaster\", \"SnPRating\", 254, 2, \"N.R\", 31], [6308, \"FSANALYTICS\", \"FSANALYTICS\", \"FSA.SecurityMaster\", \"SnPRating\", 254, 3, \"BBB-\", 12], [6309, \"FSANALYTICS\", \"FSANALYTICS\", \"FSA.SecurityMaster\", \"SnPRating\", 254, 4, \"A\", 12], [6310, \"FSANALYTICS\", \"FSANALYTICS\", \"FSA.SecurityMaster\", \"SnPRating\", 254, 5, \"A-\", 9], [6311, \"FSANALYTICS\", \"FSANALYTICS\", \"FSA.SecurityMaster\", \"SnPRating\", 254, 6, \"BB+\", 7], [6312, \"FSANALYTICS\", \"FSANALYTICS\", \"FSA.SecurityMaster\", \"SnPRating\", 254, 7, \"B+\", 6], [6313, \"FSANALYTICS\", \"FSANALYTICS\", \"FSA.SecurityMaster\", \"SnPRating\", 254, 8, \"BBB\", 5], [6314, \"FSANALYTICS\", \"FSANALYTICS\", \"FSA.SecurityMaster\", \"SnPRating\", 254, 9, \"BBB+\", 5], [6315, \"FSANALYTICS\", \"FSANALYTICS\", \"FSA.SecurityMaster\", \"SnPRating\", 254, 10, \"AA+\", 4], [6316, \"FSANALYTICS\", \"FSANALYTICS\", \"FSA.SecurityMaster\", \"SnPRating\", 254, 11, \"BB\", 3], [6317, \"FSANALYTICS\", \"FSANALYTICS\", \"FSA.SecurityMaster\", \"SnPRating\", 254, 12, \"AA-\", 2], [6318, \"FSANALYTICS\", \"FSANALYTICS\", \"FSA.SecurityMaster\", \"SnPRating\", 254, 13, \"BB-\", 2], [6319, \"FSANALYTICS\", \"FSANALYTICS\", \"FSA.SecurityMaster\", \"SnPRating\", 254, 14, \"AA\", 1], [6320, \"FSANALYTICS\", \"FSANALYTICS\", \"FSA.SecurityMaster\", \"SnPRating\", 254, 15, \"A+\", 1], [6321, \"FSANALYTICS\", \"FSANALYTICS\", \"FSA.SecurityMaster\", \"SnPRating\", 254, 16, \"B\", 1], [6322, \"FSANALYTICS\", \"FSANALYTICS\", \"FSA.SecurityMaster\", \"SnPRating\", 254, 17, \"B-\", 1], [6323, \"FSANALYTICS\", \"FSANALYTICS\", \"FSA.SecurityMaster\", \"SubSector\", 254, 1, \"Banks\", 35], [6324, \"FSANALYTICS\", \"FSANALYTICS\", \"FSA.SecurityMaster\", \"SubSector\", 254, 2, \"Diversified Financial Services\", 10], [6325, \"FSANALYTICS\", \"FSANALYTICS\", \"FSA.SecurityMaster\", \"SubSector\", 254, 3, \"Real Estate Management and Development\", 8], [6326, \"FSANALYTICS\", \"FSANALYTICS\", \"FSA.SecurityMaster\", \"SubSector\", 254, 4, \"Technology Hardware, Storage and Peripherals\", 6], [6327, \"FSANALYTICS\", \"FSANALYTICS\", \"FSA.SecurityMaster\", \"SubSector\", 254, 5, \"Metals and Mining\", 5], [6328, \"FSANALYTICS\", \"FSANALYTICS\", \"FSA.SecurityMaster\", \"SubSector\", 254, 6, \"Diversified Telecommunication Services\", 4], [6329, \"FSANALYTICS\", \"FSANALYTICS\", \"FSA.SecurityMaster\", \"SubSector\", 254, 7, \"Oil, Gas and Consumable Fuels\", 4], [6330, \"FSANALYTICS\", \"FSANALYTICS\", \"FSA.SecurityMaster\", \"SubSector\", 254, 8, \"Transportation Infrastructure\", 3], [6331, \"FSANALYTICS\", \"FSANALYTICS\", \"FSA.SecurityMaster\", \"SubSector\", 254, 9, \"Insurance\", 2], [6332, \"FSANALYTICS\", \"FSANALYTICS\", \"FSA.SecurityMaster\", \"SubSector\", 254, 10, \"Commercial Services and Supplies\", 2], [6333, \"FSANALYTICS\", \"FSANALYTICS\", \"FSA.SecurityMaster\", \"SubSector\", 254, 11, \"Airlines\", 2], [6334, \"FSANALYTICS\", \"FSANALYTICS\", \"FSA.SecurityMaster\", \"SubSector\", 254, 12, \"Electric Utilities\", 2], [6335, \"FSANALYTICS\", \"FSANALYTICS\", \"FSA.SecurityMaster\", \"SubSector\", 254, 13, \"Specialty Retail\", 2], [6336, \"FSANALYTICS\", \"FSANALYTICS\", \"FSA.SecurityMaster\", \"SubSector\", 254, 14, \"Media\", 2], [6337, \"FSANALYTICS\", \"FSANALYTICS\", \"FSA.SecurityMaster\", \"SubSector\", 254, 15, \"Construction and Engineering\", 2], [6338, \"FSANALYTICS\", \"FSANALYTICS\", \"FSA.SecurityMaster\", \"SubSector\", 254, 16, \"Multiline Retail\", 1], [6339, \"FSANALYTICS\", \"FSANALYTICS\", \"FSA.SecurityMaster\", \"SubSector\", 254, 17, \"Electronic Equipment, Instruments and Components\", 1], [6340, \"FSANALYTICS\", \"FSANALYTICS\", \"FSA.SecurityMaster\", \"SubSector\", 254, 18, \"Leisure Products\", 1], [6341, \"FSANALYTICS\", \"FSANALYTICS\", \"FSA.SecurityMaster\", \"SubSector\", 254, 19, \"Hotels Restaurants and Leisure\", 1], [6342, \"FSANALYTICS\", \"FSANALYTICS\", \"FSA.SecurityMaster\", \"SubSector\", 254, 20, \"Multi-Utilities\", 1], [6343, \"FSANALYTICS\", \"FSANALYTICS\", \"FSA.SecurityMaster\", \"SubSector\", 254, 21, \"Water Utilities\", 1], [6344, \"FSANALYTICS\", \"FSANALYTICS\", \"FSA.SecurityMaster\", \"SubSector\", 254, 22, \"Food Products\", 1], [6345, \"FSANALYTICS\", \"FSANALYTICS\", \"FSA.SecurityMaster\", \"SubSector\", 254, 23, \"Chemicals\", 1], [6346, \"FSANALYTICS\", \"FSANALYTICS\", \"FSA.SecurityMaster\", \"SubSector\", 254, 24, \"Aerospace and Defense\", 1], [6347, \"FSANALYTICS\", \"FSANALYTICS\", \"FSA.SecurityMaster\", \"SubSector\", 254, 25, \"Trading Companies and Distributors\", 1], [6348, \"FSANALYTICS\", \"FSANALYTICS\", \"FSA.SecurityMaster\", \"SubSector\", 254, 26, \"IT Services\", 1], [6349, \"FSANALYTICS\", \"FSANALYTICS\", \"FSA.SecurityMaster\", \"SubSector\", 254, 27, \"Capital Markets\", 1], [6350, \"FSANALYTICS\", \"FSANALYTICS\", \"FSA.SecurityMaster\", \"SubSector\", 254, 28, \"Health Care Equipment and Supplies\", 1], [6351, \"FSANALYTICS\", \"FSANALYTICS\", \"FSA.Trade\", \"BuySell\", 254, 1, \"B\", 94678], [6352, \"FSANALYTICS\", \"FSANALYTICS\", \"FSA.Trade\", \"BuySell\", 254, 2, \"S\", 93739], [6353, \"FSANALYTICS\", \"FSANALYTICS\", \"FSA.Trade\", \"Counterparty\", 254, 1, \"Equity Counterparty\", 143811], [6354, \"FSANALYTICS\", \"FSANALYTICS\", \"FSA.Trade\", \"Counterparty\", 254, 2, \"Sovereign Counterparty\", 26049], [6355, \"FSANALYTICS\", \"FSANALYTICS\", \"FSA.Trade\", \"Counterparty\", 254, 3, \"Corporate Counterparty\", 18557], [6356, \"FSANALYTICS\", \"FSANALYTICS\", \"FSA.Trade\", \"TradingBook\", 254, 1, \"Note\", 13265], [6357, \"FSANALYTICS\", \"FSANALYTICS\", \"FSA.Trade\", \"TradingBook\", 254, 2, \"Bond\", 12784], [6358, \"FSANALYTICS\", \"FSANALYTICS\", \"FSA.Trade\", \"TradingBook\", 254, 3, \"HIGHINVGRADE\", 6730], [6359, \"FSANALYTICS\", \"FSANALYTICS\", \"FSA.Trade\", \"TradingBook\", 254, 4, \"NONINVGRADE\", 5932], [6360, \"FSANALYTICS\", \"FSANALYTICS\", \"FSA.Trade\", \"TradingBook\", 254, 5, \"INVGRADE\", 5895], [6361, \"FSANALYTICS\", \"FSANALYTICS\", \"FSA.Trade\", \"TradingBook\", 254, 6, \"CONSUMER CYCLICAL\", 10016], [6362, \"FSANALYTICS\", \"FSANALYTICS\", \"FSA.Trade\", \"TradingBook\", 254, 7, \"ENERGY\", 10089], [6363, \"FSANALYTICS\", \"FSANALYTICS\", \"FSA.Trade\", \"TradingBook\", 254, 8, \"BASIC MATERIALS\", 10012], [6364, \"FSANALYTICS\", \"FSANALYTICS\", \"FSA.Trade\", \"TradingBook\", 254, 9, \"INDUSTRIALS\", 9948], [6365, \"FSANALYTICS\", \"FSANALYTICS\", \"FSA.Trade\", \"TradingBook\", 254, 10, \"CONSUMER DEFENSIVE\", 9807], [6366, \"FSANALYTICS\", \"FSANALYTICS\", \"FSA.Trade\", \"TradingBook\", 254, 11, \"INDUSTRIAL GOODS\", 10056], [6367, \"FSANALYTICS\", \"FSANALYTICS\", \"FSA.Trade\", \"TradingBook\", 254, 12, \"SERVICES\", 10024], [6368, \"FSANALYTICS\", \"FSANALYTICS\", \"FSA.Trade\", \"TradingBook\", 254, 13, \"COMMUNICATION SERVICES\", 9763], [6369, \"FSANALYTICS\", \"FSANALYTICS\", \"FSA.Trade\", \"TradingBook\", 254, 14, \"HEALTHCARE\", 9653], [6370, \"FSANALYTICS\", \"FSANALYTICS\", \"FSA.Trade\", \"TradingBook\", 254, 15, \"REAL ESTATE\", 9712], [6371, \"FSANALYTICS\", \"FSANALYTICS\", \"FSA.Trade\", \"TradingBook\", 254, 16, \"UTILITIES\", 9568], [6372, \"FSANALYTICS\", \"FSANALYTICS\", \"FSA.Trade\", \"TradingBook\", 254, 17, \"TECHNOLOGY\", 9341], [6373, \"FSANALYTICS\", \"FSANALYTICS\", \"FSA.Trade\", \"TradingBook\", 254, 18, \"FINANCIAL SERVICES\", 8820], [6374, \"FSANALYTICS\", \"FSANALYTICS\", \"FSA.Trade\", \"TradingBook\", 254, 19, \"CONSUMER GOODS\", 8048], [6375, \"FSANALYTICS\", \"FSANALYTICS\", \"FSA.Trade\", \"TradingBook\", 254, 20, \"FINANCIAL\", 8954]];\n",
       "\n",
       "    // Define the dt_args\n",
       "    let dt_args = {\"scrollY\": \"400px\", \"scrollCollapse\": true, \"paging\": false, \"scrollX\": true, \"order\": [], \"initComplete\": function () {\n",
       "    // Apply the search\n",
       "    this.api()\n",
       "        .columns()\n",
       "        .every(function () {\n",
       "            const that = this;\n",
       "\n",
       "            $('input', this.footer()).on('keyup change clear', function () {\n",
       "                if (that.search() !== this.value) {\n",
       "                    that.search(this.value).draw();\n",
       "                }\n",
       "            });\n",
       "        });\n",
       "}\n",
       "};\n",
       "    dt_args[\"data\"] = data;\n",
       "\n",
       "    $(document).ready(function () {\n",
       "        // Setup - add a text input to each header or footer cell\n",
       "$('#b9d32891-71fe-4f62-a5b1-b7f986ea8f7b tfoot th').each(function () {\n",
       "    let title = $(this).text();\n",
       "    $(this).html('<input type=\"text\" placeholder=\"Search ' +\n",
       "        // We use encodeURI to avoid this LGTM error:\n",
       "        // https://lgtm.com/rules/1511866576920/\n",
       "        encodeURI(title).replaceAll(\"%20\", \" \") +\n",
       "        '\" />');\n",
       "});\n",
       "\n",
       "        $('#b9d32891-71fe-4f62-a5b1-b7f986ea8f7b').DataTable(dt_args);\n",
       "    });\n",
       "</script>\n",
       "</div>\n"
      ],
      "text/plain": [
       "<IPython.core.display.HTML object>"
      ]
     },
     "metadata": {},
     "output_type": "display_data"
    },
    {
     "data": {
      "text/html": [
       "</br></br>"
      ],
      "text/plain": [
       "<IPython.core.display.HTML object>"
      ]
     },
     "metadata": {},
     "output_type": "display_data"
    }
   ],
   "source": [
    "from itables import show\n",
    "from IPython.display import display, HTML\n",
    "\n",
    "display(HTML(\"<h2>Jobs</h2>\"))\n",
    "show_itables_df(jobs)\n",
    "display(HTML(\"</br></br>\"))\n",
    "\n",
    "display(HTML(\"<h2>Table Stats</h2>\"))\n",
    "show_itables_df(stats)\n",
    "display(HTML(\"</br></br>\"))\n",
    "\n",
    "display(HTML(\"<h2>Table Schema</h2>\"))\n",
    "show_itables_df(schema)\n",
    "display(HTML(\"</br></br>\"))\n",
    "\n",
    "display(HTML(\"<h2>Column histograms</h2>\"))\n",
    "show_itables_df(hists)\n",
    "display(HTML(\"</br></br>\"))\n",
    "\n",
    "display(HTML(\"<h2>Column Top Unique Counts</h2>\"))\n",
    "show_itables_df(top)\n",
    "display(HTML(\"</br></br>\"))\n",
    "#show(top,scrollY=\"400px\", scrollCollapse=False, paging=False, scrollX = True)"
   ]
  },
  {
   "cell_type": "code",
   "execution_count": null,
   "id": "126a0793-008f-46a8-993c-f35caeb85b63",
   "metadata": {},
   "outputs": [],
   "source": []
  }
 ],
 "metadata": {
  "kernelspec": {
   "display_name": "dbtool",
   "language": "python",
   "name": "dbtool"
  },
  "language_info": {
   "codemirror_mode": {
    "name": "ipython",
    "version": 3
   },
   "file_extension": ".py",
   "mimetype": "text/x-python",
   "name": "python",
   "nbconvert_exporter": "python",
   "pygments_lexer": "ipython3",
   "version": "3.10.10"
  }
 },
 "nbformat": 4,
 "nbformat_minor": 5
}
