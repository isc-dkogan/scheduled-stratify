{
 "cells": [
  {
   "cell_type": "code",
   "execution_count": 27,
   "metadata": {},
   "outputs": [],
   "source": [
    "import abc\n",
    "from pydantic import BaseModel, Extra\n",
    "from typing import Any, List, Optional, TypeVar, Union\n",
    "\n",
    "class MyBaseModel(BaseModel):\n",
    "\n",
    "    class Config:\n",
    "        allow_population_by_field_name = True\n",
    "        extra = Extra.allow\n",
    "\n",
    "class StratTypeMappingItem(BaseModel):\n",
    "    type: str\n",
    "    name: str\n",
    "    value: str\n",
    "    bin_count: Optional[int] = None\n",
    "    top_count: Optional[int] = None\n",
    "    max_unique: Optional[int] = None\n",
    "\n",
    "class Server(MyBaseModel): \n",
    "    name: str\n",
    "    database: str\n",
    "    dialect: str\n",
    "    driver: Optional[str] = None\n",
    "    host: Optional[str] = \"\"\n",
    "    password: Optional[str] = None\n",
    "    user: Optional[str] = None\n",
    "    port: Optional[str] = None\n",
    "    schemas: Optional[list[str]] = []\n",
    "\n",
    "class DataMap(MyBaseModel):\n",
    "    pass\n",
    "    \n",
    "class Computation(MyBaseModel, abc.ABC):\n",
    "    name: str\n",
    "    value: str\n",
    "    columns: Optional[List[str]] = []\n",
    "\n",
    "class TopCounts(Computation):\n",
    "    top_count: Optional[int] = None\n",
    "    max_unique: Optional[int] = None\n",
    "    \n",
    "class Histogram(Computation):\n",
    "    binning_algo: Optional[str] = \"\"\n",
    "    bin_count: Optional[int] = None\n",
    "    \n",
    "     \n",
    "class Configuration(MyBaseModel):\n",
    "    run_type: Optional[str] = \"\"\n",
    "    servers: Optional[List[Server]] = []\n",
    "    datatype_mapping: Optional[List[DataMap]]\n",
    "    default_partition_key: Optional[str] = None\n",
    "    computations: Optional[List[Union[Histogram, TopCounts]]] = []\n",
    "    \n",
    "\n",
    "class StratifyConfig(Configuration):\n",
    "     strat_type_mapping: List[StratTypeMappingItem]\n",
    "     servers: list[Server]\n",
    "     src_server: str \n",
    "\n",
    "class Context(MyBaseModel):\n",
    "    config: Configuration\n",
    "    job_id: int\n",
    "    runtime_params: Optional[dict] = {}\n",
    "\n",
    "    def __getattr__(self, name):\n",
    "        #print(\"checking attributes\")\n",
    "        if hasattr(self.config, name):\n",
    "            value = getattr(self.config, name)\n",
    "            return value\n",
    "        else:\n",
    "            return None\n",
    "        \n",
    "        \n",
    "def get_from_list(lyst: str, name: str) -> BaseModel: \n",
    "    for item in lyst:\n",
    "        if item.name == name:\n",
    "            return item\n",
    "    return None"
   ]
  },
  {
   "cell_type": "code",
   "execution_count": 39,
   "metadata": {},
   "outputs": [
    {
     "name": "stdout",
     "output_type": "stream",
     "text": [
      "None\n",
      "there\n"
     ]
    }
   ],
   "source": [
    "import pandas as pd \n",
    "compute_obj = {'name': 'histogram', 'value': '$1', 'binning_algo': \n",
    "               'clean_many', 'bin_count': 10}\n",
    "\n",
    "conf = Configuration()\n",
    "c = Context(config=conf, job_id=-9)\n",
    "\n",
    "hel = getattr(c, \"hello\")\n",
    "print(hel)\n",
    "setattr(c, \"hello\", \"there\")\n",
    "hel = getattr(c, \"hello\")\n",
    "print(hel)"
   ]
  },
  {
   "cell_type": "code",
   "execution_count": 44,
   "metadata": {},
   "outputs": [
    {
     "data": {
      "text/html": [
       "<div>\n",
       "<style scoped>\n",
       "    .dataframe tbody tr th:only-of-type {\n",
       "        vertical-align: middle;\n",
       "    }\n",
       "\n",
       "    .dataframe tbody tr th {\n",
       "        vertical-align: top;\n",
       "    }\n",
       "\n",
       "    .dataframe thead th {\n",
       "        text-align: right;\n",
       "    }\n",
       "</style>\n",
       "<table border=\"1\" class=\"dataframe\">\n",
       "  <thead>\n",
       "    <tr style=\"text-align: right;\">\n",
       "      <th></th>\n",
       "      <th>0</th>\n",
       "      <th>0</th>\n",
       "    </tr>\n",
       "  </thead>\n",
       "  <tbody>\n",
       "    <tr>\n",
       "      <th>average</th>\n",
       "      <td>2342</td>\n",
       "      <td>2688</td>\n",
       "    </tr>\n",
       "    <tr>\n",
       "      <th>count</th>\n",
       "      <td>76</td>\n",
       "      <td>308</td>\n",
       "    </tr>\n",
       "  </tbody>\n",
       "</table>\n",
       "</div>"
      ],
      "text/plain": [
       "            0     0\n",
       "average  2342  2688\n",
       "count      76   308"
      ]
     },
     "execution_count": 44,
     "metadata": {},
     "output_type": "execute_result"
    }
   ],
   "source": [
    "import pandas as pd\n",
    "avg = 2342\n",
    "count = 76\n",
    "\n",
    "avg_count = pd.DataFrame(index=[\"average\", \"count\"], data=[avg,count])\n",
    "avg_count2 = pd.DataFrame(index=[\"average\", \"count\"], data=[avg+346,count+232])\n",
    "\n",
    "df = pd.concat([avg_count, avg_count2], axis=1)\n",
    "df"
   ]
  },
  {
   "cell_type": "code",
   "execution_count": null,
   "metadata": {},
   "outputs": [],
   "source": [
    "# Rules for Context usage\n",
    "# 1. Only set attributes via a function to insure that all are set as properties and not dicts\n",
    "# 2. Use a get_or_create function to eliminate -> x = getattr(); if not x: create x;"
   ]
  }
 ],
 "metadata": {
  "kernelspec": {
   "display_name": "insights",
   "language": "python",
   "name": "insights"
  },
  "language_info": {
   "codemirror_mode": {
    "name": "ipython",
    "version": 3
   },
   "file_extension": ".py",
   "mimetype": "text/x-python",
   "name": "python",
   "nbconvert_exporter": "python",
   "pygments_lexer": "ipython3",
   "version": "3.10.10"
  }
 },
 "nbformat": 4,
 "nbformat_minor": 2
}
